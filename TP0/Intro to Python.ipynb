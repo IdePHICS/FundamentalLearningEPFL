{
 "cells": [
  {
   "cell_type": "markdown",
   "metadata": {},
   "source": [
    "# A short introduction to Python\n",
    "\n",
    "Before we can accomplish anything in AI or machine learning, we need a programming language to do it. In this notebook, we will go over programming in Python. We will not cover some of the more basic programming conventions, and assume that the student is at least familiar with the concepts of variables, functions, etc."
   ]
  },
  {
   "cell_type": "markdown",
   "metadata": {},
   "source": [
    "## What is python?\n",
    "---\n",
    "Python is a high-level * interpreted * general-purpose computer language. An interpreted language is a language whose code does not need to be compiled before execution. This is quite different from languages such as C, C ++, and Fortran, where one has to compile human readable code into machine instructions.\n",
    "\n",
    "In Python, all code is executed by Python's \"interpreter\", a main program that reads our human-readable code and translates it into machine code when it is executed. This enables a number of dynamic features that are not supported in compiled languages. For example, the Jupyter notebook we use now wouldn't be possible without an interpreted language like Python."
   ]
  },
  {
   "cell_type": "code",
   "execution_count": 1,
   "metadata": {},
   "outputs": [
    {
     "data": {
      "text/plain": [
       "4"
      ]
     },
     "execution_count": 1,
     "metadata": {},
     "output_type": "execute_result"
    }
   ],
   "source": [
    "# An example of interpreted code execution ...!\n",
    "# (Comments are made using the # symbol)\n",
    "2 + 2"
   ]
  },
  {
   "cell_type": "markdown",
   "metadata": {},
   "source": [
    "Python also allows \"dynamic typing\": the types of variables are not assigned by the encoder, but are deduced directly by the Python interpreter. This gives the programmer the ability to prototype quickly, but can sometimes require additional code to make sure you have the right type! Let's look at an example of dynamic typing."
   ]
  },
  {
   "cell_type": "code",
   "execution_count": 2,
   "metadata": {},
   "outputs": [
    {
     "ename": "TypeError",
     "evalue": "unsupported operand type(s) for +: 'int' and 'str'",
     "output_type": "error",
     "traceback": [
      "\u001b[0;31m---------------------------------------------------------------------------\u001b[0m",
      "\u001b[0;31mTypeError\u001b[0m                                 Traceback (most recent call last)",
      "\u001b[0;32m<ipython-input-2-89ab2bb9f728>\u001b[0m in \u001b[0;36m<module>\u001b[0;34m\u001b[0m\n\u001b[1;32m      5\u001b[0m \u001b[0;34m\u001b[0m\u001b[0m\n\u001b[1;32m      6\u001b[0m \u001b[0;31m## This can cause problems!\u001b[0m\u001b[0;34m\u001b[0m\u001b[0;34m\u001b[0m\u001b[0;34m\u001b[0m\u001b[0m\n\u001b[0;32m----> 7\u001b[0;31m \u001b[0mx\u001b[0m \u001b[0;34m=\u001b[0m \u001b[0;36m2\u001b[0m \u001b[0;34m+\u001b[0m \u001b[0mx\u001b[0m\u001b[0;34m\u001b[0m\u001b[0;34m\u001b[0m\u001b[0m\n\u001b[0m",
      "\u001b[0;31mTypeError\u001b[0m: unsupported operand type(s) for +: 'int' and 'str'"
     ]
    }
   ],
   "source": [
    "## A variable can be of any type.\n",
    "x = 2     # x is an integer...\n",
    "x = 2.0   # x is a float...\n",
    "x = 'hi'  # x isaun string...\n",
    "\n",
    "## This can cause problems!\n",
    "x = 2 + x"
   ]
  },
  {
   "cell_type": "markdown",
   "metadata": {},
   "source": [
    "As we can see, if we are not careful reassigning variables can cause problems. So we have to be careful not to overuse this feature. We can also see that we got our first mistake! The Python interpreter will report errors as soon as they occur. In a compiled language such as C, the compiler would have returned an error during compilation because it would have detected this type of collision as a compilation error. However, for Python, since we only know the type of variable at runtime, we instead have a runtime error at runtime for this type of type mismatch.\n",
    "However, by summarizing the typing and addressing of variables, Python avoids many of the runtime errors that often appear in compiled languages. For example, we will not encounter pointer errors, memory leaks, or other runtime errors (segmentation errors) often encountered in C and C ++. Not having to troubleshoot memory issues is a big advantage over type checking. For specific comparisons between Python and other languages, [check out this page](https://www.python.org/doc/essays/comparisons/); in particular:\n",
    "\n",
    "> *\"Python code is typically 3-5 times shorter than equivalent Java code, it is often 5-10 times shorter than equivalent C++ code! Anecdotal evidence suggests that one Python programmer can finish in two months what two C++ programmers can't complete in a year.\"* -- Python Software Foundation"
   ]
  },
  {
   "cell_type": "markdown",
   "metadata": {},
   "source": [
    "Let's start our recap on Python coding by going over many structures and variables that we use in programs. How about a \"Hello World\"?## Python 101\n",
    "---\n",
    "Commençons notre recapitulatif sur le codage Python en passant en revue de nombreuses structures et variables  que nous utilisons dans les programmes. Que diriez-vous d'un \"Hello World\"?"
   ]
  },
  {
   "cell_type": "code",
   "execution_count": null,
   "metadata": {},
   "outputs": [],
   "source": [
    "print('Hello World!')"
   ]
  },
  {
   "cell_type": "markdown",
   "metadata": {},
   "source": [
    "Very simple, right? You can access the documentation for \"print\""
   ]
  },
  {
   "cell_type": "code",
   "execution_count": null,
   "metadata": {},
   "outputs": [],
   "source": [
    "help(print)"
   ]
  },
  {
   "cell_type": "markdown",
   "metadata": {},
   "source": [
    "Print commands can take different types of objects as input, not just strings. The object just needs to have a display option defined."
   ]
  },
  {
   "cell_type": "code",
   "execution_count": null,
   "metadata": {},
   "outputs": [],
   "source": [
    "print(2.0)     # ... float\n",
    "print(2)       # ... integer\n",
    "print('c')     # ... string\n",
    "print(print)   # ...\"a function handle\""
   ]
  },
  {
   "cell_type": "markdown",
   "metadata": {},
   "source": [
    "Now let's try a little arithmetic. All normal math operations behave as expected."
   ]
  },
  {
   "cell_type": "code",
   "execution_count": null,
   "metadata": {},
   "outputs": [],
   "source": [
    "## Set some variables !\n",
    "a = 2\n",
    "b = 3\n",
    "print('1)', a, '+', b, '=', a+b)\n",
    "print('2)', a, '-', b, '=', a-b)\n",
    "print('3)', a, '*', b, '=', a*b)\n",
    "print('4)', a, '/', b, '=', a/b)\n",
    "print('5)', a, '^', b, '=', a**b)\n",
    "print('6)', a, '%', b, '=', a%b)"
   ]
  },
  {
   "cell_type": "markdown",
   "metadata": {},
   "source": [
    "Now let's look at some control flow structures. Let's first see the format of the connection code, for example: * if-then-else *. These instructions work in Python just as you would expect in any other language you know. However, we have to be careful with the syntax. Unlike languages such as C / C ++, where spaces are very fluid and left to the programmer via backeting, the Python interpreter requires strict code indentation instead of bracketing."
   ]
  },
  {
   "cell_type": "code",
   "execution_count": null,
   "metadata": {},
   "outputs": [],
   "source": [
    "some_value = -1\n",
    "\n",
    "# Branch based on the sign of the value\n",
    "if some_value == 0:\n",
    "    print('Value is equal to 0.')\n",
    "elif some_value > 0:\n",
    "    print('Value is positive.')\n",
    "else:\n",
    "    print('Value is negative.')"
   ]
  },
  {
   "cell_type": "markdown",
   "metadata": {},
   "source": [
    "Note that Python does not include an explicit `switch` control structure like in C / C ++. Instead, we use a ladder of `if-elif-elif -...` instructions to achieve the same goal, as we see above. Since Python 2.5, Python also has a ternary operator ..."
   ]
  },
  {
   "cell_type": "code",
   "execution_count": null,
   "metadata": {},
   "outputs": [],
   "source": [
    "some_value = -2\n",
    "\n",
    "# Ternary operator is given as\n",
    "#    a if condition else b\n",
    "print('Value >= 0') if some_value >= 0 else print('Value is negative.')"
   ]
  },
  {
   "cell_type": "markdown",
   "metadata": {},
   "source": [
    "Now we'll take a look at basic loops in Python. In practice, the most common loop you will connect with is the `for` loop. Let's take a look at an example."
   ]
  },
  {
   "cell_type": "code",
   "execution_count": null,
   "metadata": {},
   "outputs": [],
   "source": [
    "n_loops = 3\n",
    "\n",
    "# We need an object to loop over. `range(0,x)` returns an iterator over the range [0,...,x-1]. \n",
    "for loop in range(0,n_loops):\n",
    "    print('Loop #',loop)"
   ]
  },
  {
   "cell_type": "markdown",
   "metadata": {},
   "source": [
    "In Python, you can loop through an iterable object, not just numeric values. Let's take a look at a simple example creating a list of values."
   ]
  },
  {
   "cell_type": "code",
   "execution_count": null,
   "metadata": {},
   "outputs": [],
   "source": [
    "# Iterate over a list of string values\n",
    "list_of_strings = ['just', 'a', 'list', 'of', 'strings']\n",
    "\n",
    "for string in list_of_strings:\n",
    "    print(string)"
   ]
  },
  {
   "cell_type": "markdown",
   "metadata": {},
   "source": [
    "Interestingly, due to the nature of dynamic typing in Python, our listings aren't limited to just one type. A list can contain any number of objects, each of a different type."
   ]
  },
  {
   "cell_type": "code",
   "execution_count": null,
   "metadata": {},
   "outputs": [],
   "source": [
    "# Iterate over whatever\n",
    "list_of_whatever = ['just', 42, 'things', 3.14, print, ('i', 'guess')]\n",
    "\n",
    "for thing in list_of_whatever:\n",
    "    print(thing)"
   ]
  },
  {
   "cell_type": "markdown",
   "metadata": {},
   "source": [
    "---\n",
    "\n",
    "---\n",
    "## Ex 1: computing n!\n",
    "For example, let's write a function to calculate the factorial of a given positive integer, $ n! = n \\times (n-1) \\times (n-2) \\times \\cdots $, and $ 0! = 1 $. Let's define this as a function so that we can use it again later."
   ]
  },
  {
   "cell_type": "code",
   "execution_count": null,
   "metadata": {},
   "outputs": [],
   "source": [
    "## Your solution below...\n",
    "def factorial(n):\n",
    "    pass # Replace with your code"
   ]
  },
  {
   "cell_type": "markdown",
   "metadata": {},
   "source": [
    "### Validation\n"
   ]
  },
  {
   "cell_type": "code",
   "execution_count": null,
   "metadata": {},
   "outputs": [],
   "source": [
    "assert factorial(0) == 1\n",
    "assert factorial(6) == 720\n",
    "assert factorial(5) == 120\n",
    "assert factorial(10) == 3628800\n",
    "factorial(-1)\n",
    "factorial(2.5)\n",
    "print(\"Tests Passed !\")"
   ]
  },
  {
   "cell_type": "markdown",
   "metadata": {},
   "source": [
    "---\n",
    "\n",
    "---"
   ]
  },
  {
   "cell_type": "markdown",
   "metadata": {},
   "source": [
    "## Python knows maths!\n",
    "Now let's see how to perform a number of basic math operations in python, including examples of linear algebra. First, let's take a look at some simple scalar math operations.\n",
    "\n",
    "In this case, we'll need to import additional functionality from the `math` package, a standard Python module that comes with the main Python distribution. Import functionality is handled the same as C \\ C ++, however, there are some namespace considerations to be aware of.\n",
    "\n",
    "For example, if we want to use the exponential function of the `math` package, we have several ways to do it, depending on our wishes as programmers.\n",
    "\n",
    "1. The simple method:\n",
    "\n",
    "```python\n",
    ">>> import math\n",
    ">>> math.exp(1)\n",
    "2.718281828459045\n",
    "```\n",
    "\n",
    "2. Rename the package with a shorter name:\n",
    "\n",
    "```python\n",
    ">>> import math as m\n",
    ">>> m.exp(1)\n",
    "2.718281828459045\n",
    "```\n",
    "\n",
    "3. Import only parts of the package:\n",
    "\n",
    "```python\n",
    ">>> from math import exp\n",
    ">>> exp(1)\n",
    "2.718281828459045\n",
    "```\n",
    "\n",
    "There is no one right way to approach this, you just need to find an approach that meets your needs and makes your code concise and readable."
   ]
  },
  {
   "cell_type": "code",
   "execution_count": null,
   "metadata": {},
   "outputs": [],
   "source": [
    "import math as m   # Just making an easy short name\n",
    "\n",
    "# Lets look at a basic right triangle...\n",
    "#      |\\\n",
    "#      | \\  h = ?\n",
    "# a=3  |  \\\n",
    "#      |___\\\n",
    "#       b=1\n",
    "#\n",
    "\n",
    "a = 3\n",
    "b = 1\n",
    "ang_ab = 90\n",
    "\n",
    "# Calculate the hypotenuse\n",
    "h = m.sqrt(a**2 + b**2)\n",
    "\n",
    "# Find remaining angles\n",
    "ang_bh = m.degrees(m.asin(a / h))\n",
    "ang_ah = 180 - ang_ab - ang_bh\n",
    "\n",
    "# Show results\n",
    "print('      %0.1f' % ang_ah)\n",
    "print('       | \\\\')\n",
    "print('       |  \\\\')\n",
    "print('       |   \\\\')      \n",
    "print('a = ',a,'|    \\\\  h = %0.1f' % h)\n",
    "print('       |     \\\\')\n",
    "print('       |      \\\\')\n",
    "print('       |       \\\\')\n",
    "print('       |90__%0.1f\\\\' % ang_bh)  \n",
    "print('         b =',b)"
   ]
  },
  {
   "cell_type": "markdown",
   "metadata": {},
   "source": [
    "So, we can do simple trigonometry. But we can also do logarithms, exponentials, etc. We also have some specific constants which are defined for us in `math`."
   ]
  },
  {
   "cell_type": "code",
   "execution_count": null,
   "metadata": {},
   "outputs": [],
   "source": [
    "m.log(m.exp(m.pi))   # m.log() defaults to natural log"
   ]
  },
  {
   "cell_type": "markdown",
   "metadata": {},
   "source": [
    "## List, dictionaires, sets & tuples\n",
    "\n",
    "Python includes several types of built-in containers: lists, dictionaries, sets, and t-uples.\n",
    "\n",
    "**list**: A list is the Python equivalent of an array, but is resizable and can contain elements of different types:"
   ]
  },
  {
   "cell_type": "code",
   "execution_count": null,
   "metadata": {
    "scrolled": true
   },
   "outputs": [],
   "source": [
    "xs = [3, 1, 2]    # Create a list\n",
    "print(xs, xs[2])  # Prints \"[3, 1, 2] 2\"\n",
    "print(xs[-1])     # Negative indices count from the end of the list; prints \"2\"\n",
    "xs[2] = 'foo'     # Lists can contain elements of different types\n",
    "print(xs)         # Prints \"[3, 1, 'foo']\"\n",
    "xs.append('bar')  # Add a new element to the end of the list\n",
    "print(xs)         # Prints \"[3, 1, 'foo', 'bar']\"\n",
    "x = xs.pop()      # Remove and return the last element of the list\n",
    "print(x, xs)      # Prints \"bar [3, 1, 'foo']\""
   ]
  },
  {
   "cell_type": "markdown",
   "metadata": {},
   "source": [
    "**Slicing**: In addition to accessing the elements of a list at a time, Python provides a concise syntax for accessing sublists. this is called slicing:"
   ]
  },
  {
   "cell_type": "code",
   "execution_count": null,
   "metadata": {
    "scrolled": true
   },
   "outputs": [],
   "source": [
    "nums = list(range(5))     # range is a built-in function that creates a list of integers\n",
    "print(nums)               # Prints \"[0, 1, 2, 3, 4]\"\n",
    "print(nums[2:4])          # Get a slice from index 2 to 4 (exclusive); prints \"[2, 3]\"\n",
    "print(nums[2:])           # Get a slice from index 2 to the end; prints \"[2, 3, 4]\"\n",
    "print(nums[:2])           # Get a slice from the start to index 2 (exclusive); prints \"[0, 1]\"\n",
    "print(nums[:])            # Get a slice of the whole list; prints \"[0, 1, 2, 3, 4]\"\n",
    "print(nums[:-1])          # Slice indices can be negative; prints \"[0, 1, 2, 3]\"\n",
    "nums[2:4] = [8, 9]        # Assign a new sublist to a slice\n",
    "print(nums)               # Prints \"[0, 1, 8, 9, 4]\""
   ]
  },
  {
   "cell_type": "markdown",
   "metadata": {},
   "source": [
    "**dictionaries:** A dictionary stores pairs (key, value): You can use it like this:"
   ]
  },
  {
   "cell_type": "code",
   "execution_count": null,
   "metadata": {
    "scrolled": true
   },
   "outputs": [],
   "source": [
    "d = {'cat': 'cute', 'dog': 'furry'}  # Create a new dictionary with some data\n",
    "print(d['cat'])       # Get an entry from a dictionary; prints \"cute\"\n",
    "print('cat' in d)     # Check if a dictionary has a given key; prints \"True\"\n",
    "d['fish'] = 'wet'     # Set an entry in a dictionary\n",
    "print(d['fish'])      # Prints \"wet\"\n",
    "# print(d['monkey'])  # KeyError: 'monkey' not a key of d\n",
    "print(d.get('monkey', 'N/A'))  # Get an element with a default; prints \"N/A\"\n",
    "print(d.get('fish', 'N/A'))    # Get an element with a default; prints \"wet\"\n",
    "del d['fish']         # Remove an element from a dictionary\n",
    "print(d.get('fish', 'N/A')) # \"fish\" is no longer a key; prints \"N/A\"\n",
    "\n",
    "d = {'person': 2, 'cat': 4, 'spider': 8}\n",
    "for animal in d:\n",
    "    legs = d[animal]\n",
    "    print('A %s has %d legs' % (animal, legs))\n",
    "# Prints \"A person has 2 legs\", \"A cat has 4 legs\", \"A spider has 8 legs\""
   ]
  },
  {
   "cell_type": "markdown",
   "metadata": {},
   "source": [
    "**set**: A set is an unordered collection of distinct elements. As a simple example, consider the following:"
   ]
  },
  {
   "cell_type": "code",
   "execution_count": null,
   "metadata": {
    "scrolled": true
   },
   "outputs": [],
   "source": [
    "animals = {'cat', 'dog'}\n",
    "print('cat' in animals)   # Check if an element is in a set; prints \"True\"\n",
    "print('fish' in animals)  # prints \"False\"\n",
    "animals.add('fish')       # Add an element to a set\n",
    "print('fish' in animals)  # Prints \"True\"\n",
    "print(len(animals))       # Number of elements in a set; prints \"3\"\n",
    "animals.add('cat')        # Adding an element that is already in the set does nothing\n",
    "print(len(animals))       # Prints \"3\"\n",
    "animals.remove('cat')     # Remove an element from a set\n",
    "print(len(animals))       # Prints \"2\"\n",
    "\n",
    "animals = {'cat', 'dog', 'fish'}\n",
    "for idx, animal in enumerate(animals):\n",
    "    print('#%d: %s' % (idx + 1, animal))\n",
    "# Prints \"#1: fish\", \"#2: dog\", \"#3: cat\""
   ]
  },
  {
   "cell_type": "markdown",
   "metadata": {},
   "source": [
    "**tuple**: A t-tuple is an ordered (immutable) list of values. A tuple is in many ways similar to a list; One of the most important differences is that tuples can be used as keys in dictionaries and as elements of sets, while lists cannot. Here is a trivial example:"
   ]
  },
  {
   "cell_type": "code",
   "execution_count": null,
   "metadata": {},
   "outputs": [],
   "source": [
    "d = {(x, x + 1): x for x in range(10)}  # Create a dictionary with tuple keys\n",
    "t = (5, 6)        # Create a tuple\n",
    "print(type(t))    # Prints \"<class 'tuple'>\"\n",
    "print(d[t])       # Prints \"5\"\n",
    "print(d[(1, 2)])  # Prints \"1\""
   ]
  },
  {
   "cell_type": "markdown",
   "metadata": {},
   "source": [
    "## Statistics in Python"
   ]
  },
  {
   "cell_type": "markdown",
   "metadata": {},
   "source": [
    "Now let's say you want to do some statistics. Maybe you want to start pulling samples from a particular distribution ... or maybe you want to check its entropy? As with everything that happens in Python, you have to assume that this has already been implemented, and look for a package ... in particular, for anything statistical, here is scipy.stats: [(Full documentation here)](https://docs.scipy.org/doc/scipy-0.18.1/reference/stats.html)."
   ]
  },
  {
   "cell_type": "code",
   "execution_count": null,
   "metadata": {},
   "outputs": [],
   "source": [
    "import scipy.stats as stat\n",
    "\n",
    "# Calculate the entropy of a Laplace distribution\n",
    "mu  = 1\n",
    "sig = 3\n",
    "e = stat.laplace.entropy(loc=mu,scale=sig)    # Differential Entropy...\n",
    "\n",
    "# What about the higher-order moments?\n",
    "m, v, s, k = stat.laplace.stats(loc=mu,scale=sig,moments='mvsk')\n",
    "\n",
    "print('---- true dist. stats----')\n",
    "print('Mean           = %0.3f' % m)\n",
    "print('Variance       = %0.3f' % v)\n",
    "print('Skew           = %0.3f' % s)\n",
    "print('Kurtosis       = %0.3f' % k)\n",
    "print('Diff. Entropy  = %0.3f' % e)\n",
    "\n",
    "# We can generate data from this distribution\n",
    "data = stat.laplace.rvs(loc=mu, scale=sig, size=1000)\n",
    "\n",
    "# Fit parameters\n",
    "mu_fit, sig_fit = stat.laplace.fit(data)\n",
    "\n",
    "# See values\n",
    "m, v, s, k = stat.laplace.stats(loc=mu_fit,scale=sig_fit,moments='mvsk')\n",
    "e = stat.laplace.entropy(loc=mu_fit,scale=sig_fit)\n",
    "\n",
    "print('---- est dist. stats----')\n",
    "print('Mean           = %0.3f' % m)\n",
    "print('Variance       = %0.3f' % v)\n",
    "print('Skew           = %0.3f' % s)\n",
    "print('Kurtosis       = %0.3f' % k)\n",
    "print('Diff. Entropy  = %0.3f' % e)"
   ]
  },
  {
   "cell_type": "markdown",
   "metadata": {},
   "source": [
    "## Linear algebra in Python: numpy\n",
    "\n",
    "Linear algebra and array manipulation will be fundamental in this course. For this, lists, dictionaries, etc ... are not really suitable, because they do not allow us to treat arrays as matrices; and we will need to use one of the most important tools in the python galaxy: the numpy arrays!"
   ]
  },
  {
   "cell_type": "code",
   "execution_count": null,
   "metadata": {},
   "outputs": [],
   "source": [
    "# Make use of numpy\n",
    "import numpy as np\n",
    "\n",
    "a = np.array([1, 2, 3])   # Create a rank 1 array\n",
    "print(type(a))            # Prints \"<class 'numpy.ndarray'>\"\n",
    "print(a.shape)            # Prints \"(3,)\"\n",
    "print(a[0], a[1], a[2])   # Prints \"1 2 3\"\n",
    "a[0] = 5                  # Change an element of the array\n",
    "print(a)                  # Prints \"[5, 2, 3]\"\n",
    "\n",
    "b = np.array([[1,2,3],[4,5,6]])    # Create a rank 2 array\n",
    "print(b.shape)                     # Prints \"(2, 3)\"\n",
    "print(b[0, 0], b[0, 1], b[1, 0])   # Prints \"1 2 4\""
   ]
  },
  {
   "cell_type": "markdown",
   "metadata": {},
   "source": [
    "Numpy allows us to create tables of all kinds:"
   ]
  },
  {
   "cell_type": "code",
   "execution_count": null,
   "metadata": {},
   "outputs": [],
   "source": [
    "a = np.zeros((2,2))   # Create an array of all zeros\n",
    "print(a)              # Prints \"[[ 0.  0.]\n",
    "                      #          [ 0.  0.]]\"\n",
    "\n",
    "b = np.ones((1,2))    # Create an array of all ones\n",
    "print(b)              # Prints \"[[ 1.  1.]]\"\n",
    "\n",
    "c = np.full((2,2), 7)  # Create a constant array\n",
    "print(c)               # Prints \"[[ 7.  7.]\n",
    "                       #          [ 7.  7.]]\"\n",
    "\n",
    "d = np.eye(2)         # Create a 2x2 identity matrix\n",
    "print(d)              # Prints \"[[ 1.  0.]\n",
    "                      #          [ 0.  1.]]\"\n",
    "\n",
    "e = np.random.random((2,2))  # Create an array filled with random values\n",
    "print(e)                     # Might print \"[[ 0.91940167  0.08143941]\n",
    "                             #               [ 0.68744134  0.87236687]]\""
   ]
  },
  {
   "cell_type": "markdown",
   "metadata": {},
   "source": [
    "Numpy offers several methods for indexing in arrays.\n",
    "\n",
    "Slicing: Similar to Python lists, numpy arrays can be sliced. Since arrays can be multidimensional, you must specify a slice for each dimension in the array."
   ]
  },
  {
   "cell_type": "code",
   "execution_count": null,
   "metadata": {},
   "outputs": [],
   "source": [
    "# Create the following rank 2 array with shape (3, 4)\n",
    "# [[ 1  2  3  4]\n",
    "#  [ 5  6  7  8]\n",
    "#  [ 9 10 11 12]]\n",
    "a = np.array([[1,2,3,4], [5,6,7,8], [9,10,11,12]])\n",
    "\n",
    "# Use slicing to pull out the subarray consisting of the first 2 rows\n",
    "# and columns 1 and 2; b is the following array of shape (2, 2):\n",
    "# [[2 3]\n",
    "#  [6 7]]\n",
    "b = a[:2, 1:3]\n",
    "\n",
    "# A slice of an array is a view into the same data, so modifying it\n",
    "# will modify the original array.\n",
    "print(a[0, 1])   # Prints \"2\"\n",
    "b[0, 0] = 77     # b[0, 0] is the same piece of data as a[0, 1]\n",
    "print(a[0, 1])   # Prints \"77\""
   ]
  },
  {
   "cell_type": "markdown",
   "metadata": {},
   "source": [
    "You can also combine integer indexing with slice indexing. However, this will produce an array of lower rank than the original one. Note that this is quite different from the way MATLAB handles matrix slicing:"
   ]
  },
  {
   "cell_type": "code",
   "execution_count": null,
   "metadata": {
    "scrolled": false
   },
   "outputs": [],
   "source": [
    "# Create the following rank 2 array with shape (3, 4)\n",
    "# [[ 1  2  3  4]\n",
    "#  [ 5  6  7  8]\n",
    "#  [ 9 10 11 12]]\n",
    "a = np.array([[1,2,3,4], [5,6,7,8], [9,10,11,12]])\n",
    "\n",
    "# Two ways of accessing the data in the middle row of the array.\n",
    "# Mixing integer indexing with slices yields an array of lower rank,\n",
    "# while using only slices yields an array of the same rank as the\n",
    "# original array:\n",
    "row_r1 = a[1, :]    # Rank 1 view of the second row of a\n",
    "row_r2 = a[1:2, :]  # Rank 2 view of the second row of a\n",
    "print(row_r1, row_r1.shape)  # Prints \"[5 6 7 8] (4,)\"\n",
    "print(row_r2, row_r2.shape)  # Prints \"[[5 6 7 8]] (1, 4)\"\n",
    "\n",
    "# We can make the same distinction when accessing columns of an array:\n",
    "col_r1 = a[:, 1]\n",
    "col_r2 = a[:, 1:2]\n",
    "print(col_r1, col_r1.shape)  # Prints \"[ 2  6 10] (3,)\"\n",
    "print(col_r2, col_r2.shape)  # Prints \"[[ 2]\n",
    "                             #          [ 6]\n",
    "                             #          [10]] (3, 1)\""
   ]
  },
  {
   "cell_type": "markdown",
   "metadata": {},
   "source": [
    "### Maths and arrays\n",
    "Basic math functions work on an array-by-array basis on arrays and are available both as an operator overload and as functions in the numpy module:"
   ]
  },
  {
   "cell_type": "code",
   "execution_count": null,
   "metadata": {},
   "outputs": [],
   "source": [
    "x = np.array([[1,2],[3,4]], dtype=np.float64)\n",
    "y = np.array([[5,6],[7,8]], dtype=np.float64)\n",
    "\n",
    "# Elementwise sum; both produce the array\n",
    "# [[ 6.0  8.0]\n",
    "#  [10.0 12.0]]\n",
    "print(x + y)\n",
    "print(np.add(x, y))\n",
    "\n",
    "# Elementwise difference; both produce the array\n",
    "# [[-4.0 -4.0]\n",
    "#  [-4.0 -4.0]]\n",
    "print(x - y)\n",
    "print(np.subtract(x, y))\n",
    "\n",
    "# Elementwise product; both produce the array\n",
    "# [[ 5.0 12.0]\n",
    "#  [21.0 32.0]]\n",
    "print(x * y)\n",
    "print(np.multiply(x, y))\n",
    "\n",
    "# Elementwise division; both produce the array\n",
    "# [[ 0.2         0.33333333]\n",
    "#  [ 0.42857143  0.5       ]]\n",
    "print(x / y)\n",
    "print(np.divide(x, y))\n",
    "\n",
    "# Elementwise square root; produces the array\n",
    "# [[ 1.          1.41421356]\n",
    "#  [ 1.73205081  2.        ]]\n",
    "print(np.sqrt(x))"
   ]
  },
  {
   "cell_type": "markdown",
   "metadata": {},
   "source": [
    "Note that unlike MATLAB, * is element multiplication, not matrix multiplication. Instead, we use the dot function to calculate the internal products of vectors, to multiply a vector by a matrix, and to multiply matrices. dot is available both as a function in the numpy module and as an instance method of array objects."
   ]
  },
  {
   "cell_type": "code",
   "execution_count": null,
   "metadata": {
    "scrolled": true
   },
   "outputs": [],
   "source": [
    "x = np.array([[1,2],[3,4]])\n",
    "y = np.array([[5,6],[7,8]])\n",
    "\n",
    "v = np.array([9,10])\n",
    "w = np.array([11, 12])\n",
    "\n",
    "# Inner product of vectors; both produce 219\n",
    "print(v.dot(w))\n",
    "print(np.dot(v, w))\n",
    "\n",
    "# Matrix / vector product; both produce the rank 1 array [29 67]\n",
    "print(x.dot(v))\n",
    "print(np.dot(x, v))\n",
    "\n",
    "# Matrix / matrix product; both produce the rank 2 array\n",
    "# [[19 22]\n",
    "#  [43 50]]\n",
    "print(x.dot(y))\n",
    "print(np.dot(x, y))"
   ]
  },
  {
   "cell_type": "markdown",
   "metadata": {},
   "source": [
    "You can also use @ as a matrix multiplication symbol, which keeps the notation pleasant."
   ]
  },
  {
   "cell_type": "code",
   "execution_count": null,
   "metadata": {},
   "outputs": [],
   "source": [
    "# Inner product of vectors; both produce 219\n",
    "print(v@w)\n",
    "\n",
    "# Matrix / vector product; both produce the rank 1 array [29 67]\n",
    "print(x@v)\n",
    "\n",
    "# Matrix / matrix product; both produce the rank 2 array\n",
    "# [[19 22]\n",
    "#  [43 50]]\n",
    "print(x@y)"
   ]
  },
  {
   "cell_type": "markdown",
   "metadata": {},
   "source": [
    "### Numpy Broadcasting"
   ]
  },
  {
   "cell_type": "markdown",
   "metadata": {},
   "source": [
    "Numpy Broadcasting is a powerful mechanism that allows numpy to work with arrays of different shapes when performing arithmetic operations. We frequently have a smaller array and a larger array, and we want to use the smaller array multiple times to perform some operations on the larger array.\n",
    "For example, suppose we want to add a constant vector to each row of a matrix. We could do it like this:"
   ]
  },
  {
   "cell_type": "code",
   "execution_count": null,
   "metadata": {
    "scrolled": true
   },
   "outputs": [],
   "source": [
    "# We will add the vector v to each row of the matrix x,\n",
    "# storing the result in the matrix y\n",
    "x = np.array([[1,2,3], [4,5,6], [7,8,9], [10, 11, 12]])\n",
    "v = np.array([1, 0, 1])\n",
    "y = np.empty_like(x)   # Create an empty matrix with the same shape as x\n",
    "\n",
    "# Add the vector v to each row of the matrix x with an explicit loop\n",
    "for i in range(4):\n",
    "    y[i, :] = x[i, :] + v\n",
    "\n",
    "# Now y is the following\n",
    "# [[ 2  2  4]\n",
    "#  [ 5  5  7]\n",
    "#  [ 8  8 10]\n",
    "#  [11 11 13]]\n",
    "print(y)"
   ]
  },
  {
   "cell_type": "markdown",
   "metadata": {},
   "source": [
    "It works; However, when the matrix x is very large, computing an explicit loop in Python can be slow. Note that adding the vector v to each row of the matrix x is like forming a matrix vv by stacking multiple copies of v vertically, then performing the elementary sum of x and vv. We could implement this approach like this:"
   ]
  },
  {
   "cell_type": "code",
   "execution_count": null,
   "metadata": {},
   "outputs": [],
   "source": [
    "# We will add the vector v to each row of the matrix x,\n",
    "# storing the result in the matrix y\n",
    "x = np.array([[1,2,3], [4,5,6], [7,8,9], [10, 11, 12]])\n",
    "v = np.array([1, 0, 1])\n",
    "vv = np.tile(v, (4, 1))   # Stack 4 copies of v on top of each other\n",
    "print(vv)                 # Prints \"[[1 0 1]\n",
    "                          #          [1 0 1]\n",
    "                          #          [1 0 1]\n",
    "                          #          [1 0 1]]\"\n",
    "y = x + vv  # Add x and vv elementwise\n",
    "print(y)  # Prints \"[[ 2  2  4\n",
    "          #          [ 5  5  7]\n",
    "          #          [ 8  8 10]\n",
    "          #          [11 11 13]]\""
   ]
  },
  {
   "cell_type": "markdown",
   "metadata": {},
   "source": [
    "Numpy delivery allows us to perform this calculation without actually creating multiple copies of v. Consider this version, using broascasting:"
   ]
  },
  {
   "cell_type": "code",
   "execution_count": null,
   "metadata": {},
   "outputs": [],
   "source": [
    "# We will add the vector v to each row of the matrix x,\n",
    "# storing the result in the matrix y\n",
    "x = np.array([[1,2,3], [4,5,6], [7,8,9], [10, 11, 12]])\n",
    "v = np.array([1, 0, 1])\n",
    "y = x + v  # Add v to each row of x using broadcasting\n",
    "print(y)  # Prints \"[[ 2  2  4]\n",
    "          #          [ 5  5  7]\n",
    "          #          [ 8  8 10]\n",
    "          #          [11 11 13]]\""
   ]
  },
  {
   "cell_type": "code",
   "execution_count": null,
   "metadata": {},
   "outputs": [],
   "source": [
    "import numpy as np\n",
    "\n",
    "# Compute outer product of vectors\n",
    "v = np.array([1,2,3])  # v has shape (3,)\n",
    "w = np.array([4,5])    # w has shape (2,)\n",
    "# To compute an outer product, we first reshape v to be a column\n",
    "# vector of shape (3, 1); we can then broadcast it against w to yield\n",
    "# an output of shape (3, 2), which is the outer product of v and w:\n",
    "# [[ 4  5]\n",
    "#  [ 8 10]\n",
    "#  [12 15]]\n",
    "print(np.reshape(v, (3, 1)) * w)\n",
    "\n",
    "# Add a vector to each row of a matrix\n",
    "x = np.array([[1,2,3], [4,5,6]])\n",
    "# x has shape (2, 3) and v has shape (3,) so they broadcast to (2, 3),\n",
    "# giving the following matrix:\n",
    "# [[2 4 6]\n",
    "#  [5 7 9]]\n",
    "print(x + v)\n",
    "\n",
    "# Add a vector to each column of a matrix\n",
    "# x has shape (2, 3) and w has shape (2,).\n",
    "# If we transpose x then it has shape (3, 2) and can be broadcast\n",
    "# against w to yield a result of shape (3, 2); transposing this result\n",
    "# yields the final result of shape (2, 3) which is the matrix x with\n",
    "# the vector w added to each column. Gives the following matrix:\n",
    "# [[ 5  6  7]\n",
    "#  [ 9 10 11]]\n",
    "print((x.T + w).T)\n",
    "# Another solution is to reshape w to be a column vector of shape (2, 1);\n",
    "# we can then broadcast it directly against x to produce the same\n",
    "# output.\n",
    "print(x + np.reshape(w, (2, 1)))\n",
    "\n",
    "# Multiply a matrix by a constant:\n",
    "# x has shape (2, 3). Numpy treats scalars as arrays of shape ();\n",
    "# these can be broadcast together to shape (2, 3), producing the\n",
    "# following array:\n",
    "# [[ 2  4  6]\n",
    "#  [ 8 10 12]]\n",
    "print(x * 2)"
   ]
  },
  {
   "cell_type": "markdown",
   "metadata": {},
   "source": [
    "## Classes\n",
    "---\n",
    "Like C / C ++ and Java, Python supports class structures. However, it is not an \"object oriented language\" in the truest sense. It does not support strict encapsulation, that is, the privatization of object data. However, it supports the convenience of classes in a whole other way. Let's take a look at an example. Here we define a class for an * Agent *, which moves on a 2D grid, evaluating the utility surrounding it."
   ]
  },
  {
   "cell_type": "code",
   "execution_count": null,
   "metadata": {},
   "outputs": [],
   "source": [
    "class Agent:\n",
    "    \"\"\"\n",
    "        A simple class which defines an `agent`, some decision making\n",
    "        entity which wants to maximize its own reward.\n",
    "    \"\"\"    \n",
    "    def __init__(self, utility=0, position=(0.0,0.0), utility_func = None, step_size = 1.0):\n",
    "        \"\"\"\n",
    "            The initialization function gets called by the interpreter\n",
    "            every time a new object of the Agent class gets created.\n",
    "            \n",
    "            :param utility: Agent's current utility value.\n",
    "            :param utility_func: Function with which to evaluate the utility of the agent. \n",
    "                                 The funciton `utility_func` takes an (x,y) coordinate and\n",
    "                                 reports a utility.\n",
    "            :param position: Agent's current position (x,y)\n",
    "            \n",
    "        \"\"\"\n",
    "        self.utility = utility\n",
    "        self.position = position\n",
    "        self.utility_func = utility_func\n",
    "        self.history = dict(position = [], utility = [])\n",
    "        self.step_size = step_size\n",
    "    \n",
    "    def __repr__(self):\n",
    "        \"\"\"\n",
    "            This function gets called whenever the interpreter needs a \"formal\" \n",
    "            string representation (error logs, etc.)\n",
    "        \"\"\"\n",
    "        return \"Agent<p:%s, u:%s>\" %(self.position, self.utility)\n",
    "    \n",
    "    def __str__(self):\n",
    "        \"\"\"\n",
    "            This function gets called by the interpreter whenever\n",
    "            there needs to be a \"user friendly\" \n",
    "            string description of the Agent object (e.g. `print(Agent())`).\n",
    "        \"\"\"\n",
    "        return \"Agent @ %s [u=%s]\" % (self.position, self.utility)\n",
    "    \n",
    "    def record_state(self):\n",
    "        \"\"\"\n",
    "            Store the current state of the agent in a queue.\n",
    "        \"\"\"\n",
    "        self.history['position'].append(self.position)\n",
    "        self.history['utility'].append(self.utility)\n",
    "    \n",
    "    def move_up(self):\n",
    "        \"\"\"\n",
    "            Increment the Y coordinate of the agent.\n",
    "        \"\"\"\n",
    "        self.record_state()\n",
    "        self.position = (self.position[0], self.position[1]+self.step_size)\n",
    "        self.utility = self.evaluate_utility()\n",
    "        \n",
    "    def move_down(self):\n",
    "        \"\"\"\n",
    "            Decrement the Y coordinate of the agent.\n",
    "        \"\"\"\n",
    "        self.record_state()\n",
    "        self.position = (self.position[0], self.position[1]-self.step_size)\n",
    "        self.utility = self.evaluate_utility()\n",
    "        \n",
    "    def move_left(self):\n",
    "        \"\"\"\n",
    "            Decrement the X coordinate of the agent\n",
    "        \"\"\"\n",
    "        self.record_state()\n",
    "        self.position = (self.position[0]-self.step_size, self.position[1])\n",
    "        self.utility = self.evaluate_utility()\n",
    "        \n",
    "    def move_right(self):\n",
    "        \"\"\"\n",
    "            Increment the X coordinate of the agent\n",
    "        \"\"\"\n",
    "        self.record_state()\n",
    "        self.position = (self.position[0]+self.step_size, self.position[1])\n",
    "        self.utility = self.evaluate_utility()\n",
    "        \n",
    "    def evaluate_utility(self, offset=(0.0, 0.0)):\n",
    "        \"\"\"\n",
    "            Get the utility function relative to the current agent\n",
    "            location. Optinally, evaluate at some offset from the agent.\n",
    "            \n",
    "            :param offset: Tuple of (x,y) coordinates with which to offset the agent\n",
    "                           position to evaluate the utility.\n",
    "            :return: A numeric value for the utility at the evaluated point\n",
    "        \"\"\"\n",
    "        if self.utility_func == None:\n",
    "            return 0   # Simple Agent with simple utility\n",
    "        else:\n",
    "            return self.utility_func((self.position[0]+offset[0],\n",
    "                                      self.position[1]+offset[1]))\n",
    "        \n"
   ]
  },
  {
   "cell_type": "markdown",
   "metadata": {},
   "source": [
    "To use the class, all you have to do is initialize an object with the agent's constructor. In this case, all default values are used. Additionally, we do not yet specify a utility function for the space in which the agent resides. We can call functions of the agent class for that particular agent and see what it is."
   ]
  },
  {
   "cell_type": "code",
   "execution_count": null,
   "metadata": {},
   "outputs": [],
   "source": [
    "# Instantiate the Agent object, `henri`...\n",
    "henri = Agent()\n",
    "print('[t = 0]', henri, 'History:', henri.history)\n",
    "\n",
    "# Try moving around a bit and look at the history\n",
    "henri.move_up()\n",
    "print('[t = 1]', henri, 'History:', henri.history)\n",
    "\n",
    "henri.move_left()\n",
    "print('[t = 2]', henri, 'History:', henri.history)\n",
    "\n",
    "henri.move_up()\n",
    "print('[t = 3]', henri, 'History:', henri.history)"
   ]
  },
  {
   "cell_type": "markdown",
   "metadata": {},
   "source": [
    "With the way we wrote the `Agent` class, we can also pass any position-based utility function to it. Let's think about putting Henri in a sort of landscape. In this case, what about a simple isometric 2D Gaussian utility that has a single maximization point, so something that follows a simple function like ...\n",
    "$$U(\\mathbf{x}) = \\frac{1}{2\\pi\\sigma} e ^{-\\frac{(\\mathbf{x} - \\boldsymbol{\\mu})^T(\\mathbf{x} - \\boldsymbol{\\mu})}{2\\sigma^2} }$$"
   ]
  },
  {
   "cell_type": "code",
   "execution_count": null,
   "metadata": {},
   "outputs": [],
   "source": [
    "from math import exp, sqrt, pi\n",
    "\n",
    "def gaussian_utility(position, mean=(0.0,0.0), sig=1.0):\n",
    "    \"\"\"\n",
    "        A simple utility function, essentially just an iid \n",
    "        multivariate normal.\n",
    "    \"\"\"\n",
    "    # Get the variance\n",
    "    v = sig**2\n",
    "    # Calculate distance from mean\n",
    "    d = (position[0] - mean[0], position[1] - mean[1])\n",
    "    dTd = d[0]**2/v + d[1]**2/v\n",
    "    # Scaling\n",
    "    scale = 1/(2*pi*v)\n",
    "    # Final computation\n",
    "    utility = scale * exp(-0.5 * dTd)\n",
    "    utility += 1e-12\n",
    "        \n",
    "    return utility"
   ]
  },
  {
   "cell_type": "markdown",
   "metadata": {},
   "source": [
    "Now that we've defined a utility function, let's put Henri \"in the field\", so to speak. We can assign this utility function to our `Agent` class by means of a **lambda** function.\n",
    "\n",
    "A lambda function allows us to define a new call to a specific function in which some parameters are fixed and some are variable. In our case, we want the parameters of the utility function (the mean and standard deviation) to remain fixed, while changing the position. A simple lambda function definition looks like the following example.\n",
    "\n",
    "```python\n",
    "    >>> def foo(param1, param2):\n",
    "    ...     return param1 + param2\n",
    "    ...\n",
    "    >>> foo_single_param = lambda value: foo(value, 4)\n",
    "    >>> foo_single_param(2)\n",
    "    6\n",
    "```\n",
    "\n",
    "We can use it to pass a lambda function as an agent utility. Let's see how to do this, below"
   ]
  },
  {
   "cell_type": "code",
   "execution_count": null,
   "metadata": {},
   "outputs": [],
   "source": [
    "# Define some parameters for the utility function\n",
    "utility_peak = (2.0,2.0)\n",
    "utility_sigma = 1.0\n",
    "\n",
    "utility_lambda = lambda position: gaussian_utility(position, mean=utility_peak, sig=utility_sigma)\n",
    "\n",
    "henri = Agent(utility_func = utility_lambda)\n",
    "print('[t = 0]', henri)\n",
    "\n",
    "# Try moving around a bit and look at the history\n",
    "henri.move_up()\n",
    "print('[t = 1]', henri)\n",
    "\n",
    "henri.move_right()\n",
    "print('[t = 2]', henri)\n",
    "\n",
    "henri.move_up()\n",
    "print('[t = 3]', henri)\n",
    "\n",
    "henri.move_right()\n",
    "print('[t = 4]', henri)\n",
    "\n",
    "henri.move_up()\n",
    "print('[t = 5]', henri)"
   ]
  },
  {
   "cell_type": "markdown",
   "metadata": {},
   "source": [
    "---\n",
    "\n",
    "---\n",
    "\n",
    "## Ex. 2 Stochastic Climber\n",
    "Let's say we have a climber and he wants to climb the highest peak. However, a heavy fog has descended on the valley in which he resides. He can only see the ground right in front of him. He knows that if he always goes up the path every step of the way, he will get to a top ... but probably not to the highest peak. Instead, he plans to take an alternative stochastic strategy.\n",
    "\n",
    "At each time interval, it looks at the paths in front of it: N, S, E and W. It then takes off in a random direction, the probability of which is proportional to the slopes that surround it. He thinks it will at least give him a chance to get to the highest peak.\n",
    "\n",
    "Write a class that inherits from the `Agent` class and extends it into a `StochasticClimber` class. Write a `climb` function which takes the number of time steps as input and runs the stochastic climber."
   ]
  },
  {
   "cell_type": "code",
   "execution_count": null,
   "metadata": {},
   "outputs": [],
   "source": [
    "class StochasticClimber(Agent):    # Inherit from class Agent\n",
    "    def climb(self, steps=1):\n",
    "        \"\"\" Implement me !\n",
    "            Run the stochastic climber for the specified number of steps\n",
    "        \"\"\"\n",
    "        pass"
   ]
  },
  {
   "cell_type": "markdown",
   "metadata": {},
   "source": [
    "*Solution*"
   ]
  },
  {
   "cell_type": "code",
   "execution_count": null,
   "metadata": {},
   "outputs": [],
   "source": [
    "# %load example2.py"
   ]
  },
  {
   "cell_type": "markdown",
   "metadata": {},
   "source": [
    "### Validation"
   ]
  },
  {
   "cell_type": "code",
   "execution_count": null,
   "metadata": {},
   "outputs": [],
   "source": [
    "# Create some landscape for our climber. In this case we have a mountain range like the following\n",
    "#          L\n",
    "#          |\n",
    "#          G\n",
    "#        /  \\\n",
    "#       L    L\n",
    "#\n",
    "#    S   <-- start position\n",
    "#\n",
    "mountain_range = lambda p : gaussian_utility(p, mean=(2.0,2.0), sig = 0.1) + \\\n",
    "                            gaussian_utility(p, mean=(2.0,3.0), sig = 0.5) + \\\n",
    "                            gaussian_utility(p, mean=(1.0,1.0), sig = 0.5) + \\\n",
    "                            gaussian_utility(p, mean=(3.0,1.0), sig = 0.5)\n",
    "            \n",
    "\n",
    "# Run our climber\n",
    "yves = StochasticClimber(utility_func=mountain_range, step_size=0.05)\n",
    "yves.climb(steps=40000)"
   ]
  },
  {
   "cell_type": "markdown",
   "metadata": {},
   "source": [
    "---\n",
    "\n",
    "---"
   ]
  },
  {
   "cell_type": "markdown",
   "metadata": {},
   "source": [
    "## File I/O\n",
    "\n",
    "Now that we have run our experiment with the `StochasticClimber`, lets say that we want to save that data to disk for use later. Perhaps for a figure (e.g. next notebook). It would be nice to not have to re-run the experiment each time we want to generate a new figure ! Lets take a look at basic file I/O and see how to write a Python or CSV file containing our results. \n",
    "\n",
    "In the first case, lets take a look at the simplest approach, which is to store the entire `yves` object to disk. Using the `pickle` module, we can store Python data to disk and load it again later. This works in much the same was as `mat` files in Matlab. "
   ]
  },
  {
   "cell_type": "code",
   "execution_count": null,
   "metadata": {},
   "outputs": [],
   "source": [
    "import pickle\n",
    "\n",
    "# A simple example...\n",
    "pickle.dump(yves, open('yves.p','wb'))"
   ]
  },
  {
   "cell_type": "markdown",
   "metadata": {},
   "source": [
    "However, we see that not all things can be pickled. In this case, our lambda function cannot be stored in disk. We will, instead, have to store our static structures (in this case, the history). "
   ]
  },
  {
   "cell_type": "code",
   "execution_count": null,
   "metadata": {},
   "outputs": [],
   "source": [
    "with open('yves.p', 'wb') as pickle_file:\n",
    "    pickle.dump(yves.history,pickle_file)"
   ]
  },
  {
   "cell_type": "markdown",
   "metadata": {},
   "source": [
    "This \"*`with a as f:`*\" control block will attempt to open the specified file and will additionally close the file handle at the end of the block. This is handy in the even that there is an error during the file I/O that might leave a file hanging open.\n",
    "\n",
    "Now lets take a look at what we've got. As we can see below, we now have the `yves.p` file saved to disk. This contains the `StochasticClimber` history."
   ]
  },
  {
   "cell_type": "code",
   "execution_count": null,
   "metadata": {},
   "outputs": [],
   "source": [
    "%ls"
   ]
  },
  {
   "cell_type": "markdown",
   "metadata": {},
   "source": [
    "Now, lets take a look at loading that to make sure that its there."
   ]
  },
  {
   "cell_type": "code",
   "execution_count": null,
   "metadata": {},
   "outputs": [],
   "source": [
    "with open('yves.p','rb') as pickle_file:\n",
    "    yves_history_copy = pickle.load(pickle_file)\n",
    "print(yves_history_copy)  # <-- Write a huge dataset below !"
   ]
  },
  {
   "cell_type": "markdown",
   "metadata": {},
   "source": [
    "We take note of a few aspects of this pickle example. Specifically, the `pick.dump()` and `pickle.load()` commands take file handles, not file names themselves. This means that we need to specify the read and write options. In both cases we are dumping all the data as binary (not strings), so we specify the 'b' option when using `open()`. \n",
    "\n",
    "Now, what do we do if we want to write data to disk that can be accessed by any other program (e.g. Excel, gnuplot, etc...)? We can also write all of this data out as a CSV, too. Lets take a look at this example. Here, we will make use of pandas to do this easily."
   ]
  },
  {
   "cell_type": "code",
   "execution_count": null,
   "metadata": {},
   "outputs": [],
   "source": [
    "import pandas as pd\n",
    "\n",
    "# Create a new dictionary whose keys represent the headers (columns)\n",
    "# of information that we would like to store in the CSV file.\n",
    "yves_csv = dict(x=[], y=[], z=[])\n",
    "yves_csv['x'] = [yves.history['position'][i][0] for i in range(0,len(yves.history['position']))]\n",
    "yves_csv['y'] = [yves.history['position'][i][1] for i in range(0,len(yves.history['position']))]\n",
    "yves_csv['z'] = yves.history['utility']\n",
    "\n",
    "# Create a DataFrame object from a dictionary\n",
    "df = pd.DataFrame.from_dict(yves_csv)\n",
    "# Write to CSV format\n",
    "df.to_csv(\"yves.csv\", sep=',', header=True, index=False)  \n",
    "%ls"
   ]
  },
  {
   "cell_type": "markdown",
   "metadata": {},
   "source": [
    "And now we see the CSV file written out to disk. Voilà! "
   ]
  }
 ],
 "metadata": {
  "kernelspec": {
   "display_name": "Python 3",
   "language": "python",
   "name": "python3"
  },
  "language_info": {
   "codemirror_mode": {
    "name": "ipython",
    "version": 3
   },
   "file_extension": ".py",
   "mimetype": "text/x-python",
   "name": "python",
   "nbconvert_exporter": "python",
   "pygments_lexer": "ipython3",
   "version": "3.7.5"
  }
 },
 "nbformat": 4,
 "nbformat_minor": 1
}
