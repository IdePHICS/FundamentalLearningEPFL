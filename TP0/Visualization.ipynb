{
 "cells": [
  {
   "cell_type": "code",
   "execution_count": null,
   "metadata": {},
   "outputs": [],
   "source": [
    "# Some Jupyter Magic for inline charts\n",
    "%matplotlib inline "
   ]
  },
  {
   "cell_type": "markdown",
   "metadata": {},
   "source": [
    "# Basic Visualization with Matplotlib\n",
    "We will now look at how to use Matplotlib to help us visualize our experiments. Matplotlib can be used for both personal edification as well as to make charts suitable for publication. In this notebook we will cover a few of the basics. Matplotlib and, specifically, PyPlot, are incredibly deep resources that will allow you to make the most complicated charts your heart desires. \n",
    "\n",
    "Because of the depth of the topic, we don't have time to cover every possible piece of Matplotlib functionality, but we will cover the basics, here. If you have worked with Matlab before, then this section should seem familar to you. If not, then we hope that this notebook will be a jumping off point for your own visualizations.\n",
    "\n",
    "The most common module of Matplotlib you will be interfacing with is PyPlot. PyPlot contains the majority of functionality we'll be using in this notebook. For the full documentation of PyPlot, [please see the documentation](http://matplotlib.org/2.0.0/contents.html)."
   ]
  },
  {
   "cell_type": "code",
   "execution_count": null,
   "metadata": {
    "collapsed": true
   },
   "outputs": [],
   "source": [
    "import numpy as np\n",
    "import matplotlib.pyplot as plt"
   ]
  },
  {
   "cell_type": "markdown",
   "metadata": {},
   "source": [
    "## The Basic Plot\n",
    "The most basic and common piece of functionality is creating a simple x-y chart. This kind of chart represents the overwhelming majority of figures you see in publication. Lets take a look at this most basic of charts and learn a bit about Matplotlib & PyPlot along the way."
   ]
  },
  {
   "cell_type": "code",
   "execution_count": null,
   "metadata": {
    "collapsed": true
   },
   "outputs": [],
   "source": [
    "# Define an axis of time\n",
    "t  = np.linspace(0,10,1000)  # 1,000 evenly spaced points between [0,10]\n",
    "# Define some value x(t)\n",
    "xt = np.sin(t) + 0.1*np.sin(t*40)"
   ]
  },
  {
   "cell_type": "code",
   "execution_count": null,
   "metadata": {},
   "outputs": [],
   "source": [
    "plt.figure(figsize=(10,5))   # Specify dimensions of the figure in (width,height)\n",
    "plt.plot(t,xt)               # The most basic chart  !"
   ]
  },
  {
   "cell_type": "markdown",
   "metadata": {},
   "source": [
    "It is that simple ! You've made your first chart ! Of course, there are a lot of other options that we can make in order to get this chart up to publication quality. Lets take a look at some of those options, now."
   ]
  },
  {
   "cell_type": "code",
   "execution_count": null,
   "metadata": {
    "scrolled": true
   },
   "outputs": [],
   "source": [
    "plt.figure(figsize=(10,5))   # Specify dimensions of the figure in (width,height)\n",
    "ha = plt.plot(t,xt, label = 'Obs. A')  #  Save a copy of the plot handle\n",
    "\n",
    "# Create some labels for the axes. You can use TeX !\n",
    "plt.xlabel('Time $t$ (sec)', fontsize=16)\n",
    "plt.ylabel('$x(t)$', fontsize=16)\n",
    "plt.title('Displacement over Time', fontsize=20)\n",
    "\n",
    "# Tighten the boundaries to get rid of white-space\n",
    "plt.xlim([0,10])\n",
    "\n",
    "# Do you want a grid?\n",
    "plt.grid('on')\n",
    "\n",
    "# We can re-draw features of the line after-the-fact using the plot handle\n",
    "plt.setp(ha,color='r')    # Notice that this doesn't update the legend.\n",
    "\n",
    "# We can even include another line if we feel like it\n",
    "xtB = np.sin(t+2) + 0.05*np.sin(t*20)\n",
    "hb = plt.plot(t,xtB,':', label='Obs. B')\n",
    "\n",
    "# Insert a legend ! \n",
    "plt.legend(fontsize=16, loc=4)\n",
    "\n",
    "# You can save this to disk, as well.\n",
    "plt.savefig('my_first_plot.pdf', dpi=300, orientation='landscape', bbox_inches='tight')"
   ]
  },
  {
   "cell_type": "markdown",
   "metadata": {},
   "source": [
    "You've done it ! You've made your first beautiful plot and saved it to disk. It only gets \"better\" from here."
   ]
  },
  {
   "cell_type": "markdown",
   "metadata": {},
   "source": [
    "## Visualizing Data\n",
    "Lets return to our friend Yves and take a look at that `StochasticClimber` dataset. We were able to run the climber, but unfortunately, there was nothing interesting to look at. Lets see how Yves did on his climbing trip. \n",
    "\n",
    "First, we need to re-load the dataset. We can accomplish this easily via the pickle we saved or the CSV. Here, we will go ahead and use the CSV and load it through pandas."
   ]
  },
  {
   "cell_type": "code",
   "execution_count": null,
   "metadata": {},
   "outputs": [],
   "source": [
    "import pandas as pd\n",
    "\n",
    "# Load the CSV dataset... simple !\n",
    "yvesDF = pd.read_csv('yves.csv')\n",
    "yvesDF"
   ]
  },
  {
   "cell_type": "markdown",
   "metadata": {},
   "source": [
    "As we see above, Jupyter already has some nice display features for Pandas DataFrames (here, it displays it as a table). So, where did Yves go on his journey? Lets take a top-down view and visualize all his wandering."
   ]
  },
  {
   "cell_type": "code",
   "execution_count": null,
   "metadata": {},
   "outputs": [],
   "source": [
    "plt.figure(figsize=(10,10))\n",
    "\n",
    "# Show Yves' Path\n",
    "plt.plot(yvesDF['x'],yvesDF['y'],label='Yves')\n",
    "\n",
    "# Show his starting and ending points\n",
    "plt.plot(0,0,'*k',markerfacecolor='k',markersize=10, label='Yves Start')\n",
    "plt.plot(yvesDF['x'][-1:],yvesDF['y'][-1:],'*r',markerfacecolor='r',markersize=10, label='Yves End')\n",
    "\n",
    "# Show the true peaks\n",
    "plt.plot(2,2,'^g',markerfacecolor='g',markersize=10, label='Tallest Peak')\n",
    "plt.plot(1,1,'^k',markerfacecolor='k',markersize=10, label='Local Peak')\n",
    "plt.plot(3,1,'^k',markerfacecolor='k',markersize=10, label='Local Peak')\n",
    "plt.plot(2,3,'^k',markerfacecolor='k',markersize=10, label='Local Peak')\n",
    "\n",
    "plt.legend(loc=2,fontsize=16)"
   ]
  },
  {
   "cell_type": "markdown",
   "metadata": {},
   "source": [
    "So now we have a pretty cool chart detailing everywhere Yves went on the map. \n",
    "\n",
    "But can we get an idea of how long he has spent in certain locations ? One quick and dirty way is to change the line width. When the line width is below `1`, then it includes a transparency effect. This transparency compounds as the plot line cross itself. "
   ]
  },
  {
   "cell_type": "code",
   "execution_count": null,
   "metadata": {},
   "outputs": [],
   "source": [
    "plt.figure(figsize=(10,10))\n",
    "\n",
    "# Show Yves' Path\n",
    "plt.plot(yvesDF['x'],yvesDF['y'],label='Yves', linewidth=0.05)\n",
    "\n",
    "# Show his starting and ending points\n",
    "plt.plot(0,0,'*k',markerfacecolor='k',markersize=10, label='Yves Start')\n",
    "plt.plot(yvesDF['x'][-1:],yvesDF['y'][-1:],'*r',markerfacecolor='r',markersize=10, label='Yves End')\n",
    "\n",
    "# Show the true peaks\n",
    "plt.plot(2,2,'^g',markerfacecolor='g',markersize=10, label='Tallest Peak')\n",
    "plt.plot(1,1,'^k',markerfacecolor='k',markersize=10, label='Local Peak')\n",
    "plt.plot(3,1,'^k',markerfacecolor='k',markersize=10, label='Local Peak')\n",
    "plt.plot(2,3,'^k',markerfacecolor='k',markersize=10, label='Local Peak')\n",
    "\n",
    "plt.legend(loc=2,fontsize=16)"
   ]
  },
  {
   "cell_type": "markdown",
   "metadata": {},
   "source": [
    "So, we see that the final effect is a \"density\", which shows us that Yves spends most of his time around the peaks. "
   ]
  },
  {
   "cell_type": "markdown",
   "metadata": {},
   "source": [
    "We can even make some 3D plots. For example, what if we wanted to plot Yves' path along with his height, so we can get an idea of the steepness of the mountains he climbed. We can do that as well by specifying a 3D axis."
   ]
  },
  {
   "cell_type": "code",
   "execution_count": null,
   "metadata": {},
   "outputs": [],
   "source": [
    "# Import some extra tools\n",
    "from mpl_toolkits.mplot3d import Axes3D\n",
    "fig = plt.figure(figsize=(10,10))\n",
    "# Set a 3D axis\n",
    "ax = fig.add_subplot(111, projection='3d')\n",
    "\n",
    "# Use the 3D axis for plotting\n",
    "ax.plot(yvesDF['x'], yvesDF['y'], yvesDF['z'], 'r', linewidth=0.1, alpha=0.75)\n",
    "ax.set_xlabel('West-East', fontsize=16)\n",
    "ax.set_ylabel('North-South', fontsize=16)\n",
    "ax.set_zlabel('Height', fontsize=16)\n",
    "plt.xlim((-1,4))\n",
    "plt.ylim((-1,4))\n",
    "ax.view_init(30, -45)"
   ]
  },
  {
   "cell_type": "markdown",
   "metadata": {},
   "source": [
    "We can even look at where Yves lingered the most in terms of his (x,y) position."
   ]
  },
  {
   "cell_type": "code",
   "execution_count": null,
   "metadata": {},
   "outputs": [],
   "source": [
    "plt.figure(figsize=(20,10))\n",
    "# Histogram of X locations\n",
    "plt.subplot(121)\n",
    "plt.hist(yvesDF['x'], bins = 30);\n",
    "plt.xlabel('West-East Position', fontsize=16)\n",
    "plt.title('Dwell Time, Horizontal', fontsize=20)\n",
    "plt.ylabel('Steps at Position', fontsize=16)\n",
    "\n",
    "plt.subplot(122);\n",
    "plt.hist(yvesDF['y'], bins = 30);\n",
    "plt.xlabel('South-North Position', fontsize=16)\n",
    "plt.ylabel('Steps at Position', fontsize=16)\n",
    "plt.title('Dwell Time, Vertical', fontsize=20)\n"
   ]
  },
  {
   "cell_type": "markdown",
   "metadata": {},
   "source": [
    "So, we can see that indeed Yves has spent the majority of his time around the tallest peak. But, once he got there, did he stay there? "
   ]
  },
  {
   "cell_type": "code",
   "execution_count": null,
   "metadata": {},
   "outputs": [],
   "source": [
    "# Get the number of steps Yves took\n",
    "maxstep = len(yvesDF['x'])\n",
    "\n",
    "plt.figure(figsize=(20,10))\n",
    "\n",
    "# Plot the position of the true tallest peak\n",
    "plt.plot([0, maxstep],[2, 2],':k', label='Tallest Peak')\n",
    "\n",
    "# Plot Yves Path\n",
    "plt.plot(yvesDF['x'], linewidth=0.5, label='West-East Position', alpha=0.7)\n",
    "plt.plot(yvesDF['y'], linewidth=0.5, label='South-North Position', alpha=0.7)\n",
    "\n",
    "# Formatting\n",
    "plt.xlim([1,maxstep])\n",
    "plt.xlabel('Step Count', fontsize=18)\n",
    "plt.ylabel('Position', fontsize=18)\n",
    "plt.legend(loc=4, fontsize=18)"
   ]
  },
  {
   "cell_type": "markdown",
   "metadata": {},
   "source": [
    "Or, another way, we can look at Yves' distance from the tallest peak, as well."
   ]
  },
  {
   "cell_type": "code",
   "execution_count": null,
   "metadata": {},
   "outputs": [],
   "source": [
    "# Calculate Euclidean distance from peak\n",
    "d = np.sqrt((yvesDF['x'] - 2)**2 + (yvesDF['y'] - 2)**2)\n",
    "\n",
    "plt.figure(figsize=(20,10))\n",
    "\n",
    "# Plot Yves Path\n",
    "plt.plot(d, linewidth=0.5,  alpha=0.7)\n",
    "\n",
    "# Formatting\n",
    "plt.xlim([1,maxstep])\n",
    "plt.xlabel('Step Count', fontsize=18)\n",
    "plt.ylabel('Distance from Tallest Peak', fontsize=18)\n",
    "plt.ylim([0,3])"
   ]
  },
  {
   "cell_type": "markdown",
   "metadata": {},
   "source": [
    "We can see that by the end Yves remains quite close to the tallest peak. It seems that once he gets there, he stays around there. But why do we see this variation around the central value? Well, remember that we selected a grid size of 0.05. We should expect to see this 'grid-width' variation around the peak. Lets check it !"
   ]
  },
  {
   "cell_type": "code",
   "execution_count": null,
   "metadata": {},
   "outputs": [],
   "source": [
    "np.sqrt(np.var(d[25000:]))"
   ]
  },
  {
   "cell_type": "markdown",
   "metadata": {},
   "source": [
    "Indeed, we recover a variance here at around ~0.05 +- 0.01. So we can indeed see that Yves is mostly travelling in tight loops around the top of the tallest mountain peak ! It seems his stochastic strategy paid off :)"
   ]
  },
  {
   "cell_type": "code",
   "execution_count": null,
   "metadata": {
    "collapsed": true
   },
   "outputs": [],
   "source": []
  }
 ],
 "metadata": {
  "kernelspec": {
   "display_name": "Python 3",
   "language": "python",
   "name": "python3"
  },
  "language_info": {
   "codemirror_mode": {
    "name": "ipython",
    "version": 3
   },
   "file_extension": ".py",
   "mimetype": "text/x-python",
   "name": "python",
   "nbconvert_exporter": "python",
   "pygments_lexer": "ipython3",
   "version": "3.7.1"
  }
 },
 "nbformat": 4,
 "nbformat_minor": 2
}
