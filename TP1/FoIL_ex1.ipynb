{
 "cells": [
  {
   "cell_type": "markdown",
   "metadata": {
    "id": "GteYUTHvkZtc"
   },
   "source": [
    "# EE-411 Fundamentals of inference and learning, EPFL \n",
    "## Exercise Session 1: looking at data with python and pandas\n",
    "\n",
    "In this first set of exercices, we will start the course by solving some simple python problems that will help you warm up for the future. We advise you to run python notebooks on your browser, for instance using google colab (Watch <a href=\"https://https://www.youtube.com/watch?v=RLYoEyIHL6A\">Introduction to Colab</a> to find out more) or our own serveur in epfl (on <a href=\"https://noto.epfl.ch/\">noto.epfl.ch</a>). If you need to refresh your python skills, you may start by our introductory notebooks [here](https://github.com/IdePHICS/FundamentalLearningEPFL2021/blob/main/TP0/Intro%20to%20Python.ipynb) and [there](https://github.com/IdePHICS/FundamentalLearningEPFL2021/blob/main/TP0/Visualization.ipynb).\n",
    "\n",
    "**What you will learn today:** In this first session, we will discuss briefly how to use python, how to use pandas (a powerful, and easy to use, open source data analysis and manipulation tool), and discuss the idea of permutation test and bootstrap, that are amazingly useful concepts from statistics.\n",
    "\n"
   ]
  },
  {
   "cell_type": "markdown",
   "metadata": {
    "id": "izBv5XTukZth"
   },
   "source": [
    "# The Brexit data: who wanted out?"
   ]
  },
  {
   "cell_type": "markdown",
   "metadata": {
    "id": "BTGq_uJZkZth"
   },
   "source": [
    "\n",
    "We will introduce the concept of permutation test in the hypothesis testing problem exploiting a cool analysis on the Brexit referendum following this great resource https://matthew-brett.github.io/les-pilot/brexit_ages.html. This will give us the opportunity to review the basic functionalities of pandas, a pivotal package in data-handling which we will find often during this course. In fact, you may want to follow an introduction to pandas (for instance [this one](https://www.learndatasci.com/tutorials/python-pandas-tutorial-complete-introduction-for-beginners/), or the very useful [Most Important Pandas Functions for Data Science](https://www.analyticsvidhya.com/blog/2021/05/pandas-functions-13-most-important/)\n",
    ").\n",
    "\n",
    "Here is our problem: The Hansard society made a poll in the 2016 interviewing 1771 people on the Brexit referendum  (data available here https://beta.ukdataservice.ac.uk/datacatalogue/studies/study?id=8183).\n"
   ]
  },
  {
   "cell_type": "markdown",
   "metadata": {
    "id": "pWSuVuGJkZti"
   },
   "source": [
    "If we dig into the data, we see that the average age of the \"Brexiteers\" is higher from the one of the \"Remainers\". \n",
    "We are interested in addressing the following question: how $\\textbf{confident}$ can we be that this rule is general and is not an artifact due to low sample size? \n"
   ]
  },
  {
   "cell_type": "markdown",
   "metadata": {
    "id": "0t4De2E4kZti"
   },
   "source": [
    "This problem falls in the broader context of hypothesis testing problem:\n",
    "\n",
    "* Hypothesis (H1) - effective difference in the age of Brexiteers and Remainers \n",
    "                       \n",
    "                         vs \n",
    "                         \n",
    "* \"Null hypothesis\" (H0) - no difference in the age of the two groups\n",
    "\n",
    "This seems like a hard problem but we will see that with a very simple idea we will be able to characterize the answer. Let's proceed by small steps and let's understand how to handle a dataset with pandas.\n"
   ]
  },
  {
   "cell_type": "markdown",
   "metadata": {
    "id": "ef6-VdzBkZtj"
   },
   "source": [
    "### $\\color{darkblue}{\\text{Data-handling with pandas }}$ "
   ]
  },
  {
   "cell_type": "code",
   "execution_count": 2,
   "metadata": {
    "id": "AeFbJQYWkZtj"
   },
   "outputs": [],
   "source": [
    "# Let's import the package \n",
    "import pandas as pd"
   ]
  },
  {
   "cell_type": "code",
   "execution_count": 5,
   "metadata": {
    "id": "sYU8MEOCkZtk"
   },
   "outputs": [],
   "source": [
    "# Read data using pd.read_csv obtaining a \"data frame\" (df) object\n",
    "data_raw = pd.read_csv('https://raw.githubusercontent.com/IdePHICS/FundamentalLearningEPFL/main/TP1/audit_of_political_engagement_14_2017.tab', sep = '\\t')"
   ]
  },
  {
   "cell_type": "markdown",
   "metadata": {
    "id": "ZBy3sb8HkZtl"
   },
   "source": [
    "The way pandas datas is presented look messy at first. It is called a **dataframe**. By printing the data frame, this is what we see:"
   ]
  },
  {
   "cell_type": "code",
   "execution_count": 6,
   "metadata": {
    "colab": {
     "base_uri": "https://localhost:8080/",
     "height": 437
    },
    "executionInfo": {
     "elapsed": 254,
     "status": "ok",
     "timestamp": 1631882719742,
     "user": {
      "displayName": "davide ghio",
      "photoUrl": "https://lh3.googleusercontent.com/a/default-user=s64",
      "userId": "16033550004002351519"
     },
     "user_tz": -120
    },
    "id": "0_vuPZcQkZtl",
    "outputId": "85392913-fe3d-4d1e-c128-8295dae8e000",
    "scrolled": true
   },
   "outputs": [
    {
     "data": {
      "text/html": [
       "<div>\n",
       "<style scoped>\n",
       "    .dataframe tbody tr th:only-of-type {\n",
       "        vertical-align: middle;\n",
       "    }\n",
       "\n",
       "    .dataframe tbody tr th {\n",
       "        vertical-align: top;\n",
       "    }\n",
       "\n",
       "    .dataframe thead th {\n",
       "        text-align: right;\n",
       "    }\n",
       "</style>\n",
       "<table border=\"1\" class=\"dataframe\">\n",
       "  <thead>\n",
       "    <tr style=\"text-align: right;\">\n",
       "      <th></th>\n",
       "      <th>cu041</th>\n",
       "      <th>cu042</th>\n",
       "      <th>cu043</th>\n",
       "      <th>cu044</th>\n",
       "      <th>cu045</th>\n",
       "      <th>cu046</th>\n",
       "      <th>cu047</th>\n",
       "      <th>cu048</th>\n",
       "      <th>cu049</th>\n",
       "      <th>cu0410</th>\n",
       "      <th>...</th>\n",
       "      <th>intten</th>\n",
       "      <th>cx_971_980</th>\n",
       "      <th>serial</th>\n",
       "      <th>week</th>\n",
       "      <th>wts</th>\n",
       "      <th>numage</th>\n",
       "      <th>weight0</th>\n",
       "      <th>sgrade_grp</th>\n",
       "      <th>age_grp</th>\n",
       "      <th>region2</th>\n",
       "    </tr>\n",
       "  </thead>\n",
       "  <tbody>\n",
       "    <tr>\n",
       "      <th>0</th>\n",
       "      <td>0</td>\n",
       "      <td>0</td>\n",
       "      <td>0</td>\n",
       "      <td>0</td>\n",
       "      <td>1</td>\n",
       "      <td>1</td>\n",
       "      <td>0</td>\n",
       "      <td>0</td>\n",
       "      <td>0</td>\n",
       "      <td>0</td>\n",
       "      <td>...</td>\n",
       "      <td>-1</td>\n",
       "      <td>3.41659</td>\n",
       "      <td>1399</td>\n",
       "      <td>648</td>\n",
       "      <td>3.41659</td>\n",
       "      <td>37</td>\n",
       "      <td>3.41659</td>\n",
       "      <td>1</td>\n",
       "      <td>4</td>\n",
       "      <td>3</td>\n",
       "    </tr>\n",
       "    <tr>\n",
       "      <th>1</th>\n",
       "      <td>0</td>\n",
       "      <td>0</td>\n",
       "      <td>0</td>\n",
       "      <td>0</td>\n",
       "      <td>0</td>\n",
       "      <td>0</td>\n",
       "      <td>0</td>\n",
       "      <td>0</td>\n",
       "      <td>0</td>\n",
       "      <td>1</td>\n",
       "      <td>...</td>\n",
       "      <td>-1</td>\n",
       "      <td>2.68198</td>\n",
       "      <td>1733</td>\n",
       "      <td>648</td>\n",
       "      <td>2.68198</td>\n",
       "      <td>55</td>\n",
       "      <td>2.68198</td>\n",
       "      <td>2</td>\n",
       "      <td>6</td>\n",
       "      <td>3</td>\n",
       "    </tr>\n",
       "    <tr>\n",
       "      <th>2</th>\n",
       "      <td>0</td>\n",
       "      <td>0</td>\n",
       "      <td>0</td>\n",
       "      <td>0</td>\n",
       "      <td>1</td>\n",
       "      <td>0</td>\n",
       "      <td>0</td>\n",
       "      <td>0</td>\n",
       "      <td>0</td>\n",
       "      <td>0</td>\n",
       "      <td>...</td>\n",
       "      <td>-1</td>\n",
       "      <td>0.79379</td>\n",
       "      <td>1736</td>\n",
       "      <td>648</td>\n",
       "      <td>0.79379</td>\n",
       "      <td>71</td>\n",
       "      <td>0.79379</td>\n",
       "      <td>2</td>\n",
       "      <td>7</td>\n",
       "      <td>4</td>\n",
       "    </tr>\n",
       "    <tr>\n",
       "      <th>3</th>\n",
       "      <td>0</td>\n",
       "      <td>0</td>\n",
       "      <td>0</td>\n",
       "      <td>0</td>\n",
       "      <td>1</td>\n",
       "      <td>0</td>\n",
       "      <td>1</td>\n",
       "      <td>0</td>\n",
       "      <td>0</td>\n",
       "      <td>0</td>\n",
       "      <td>...</td>\n",
       "      <td>-1</td>\n",
       "      <td>1.40580</td>\n",
       "      <td>1737</td>\n",
       "      <td>648</td>\n",
       "      <td>1.40580</td>\n",
       "      <td>37</td>\n",
       "      <td>1.40580</td>\n",
       "      <td>1</td>\n",
       "      <td>4</td>\n",
       "      <td>4</td>\n",
       "    </tr>\n",
       "    <tr>\n",
       "      <th>4</th>\n",
       "      <td>0</td>\n",
       "      <td>0</td>\n",
       "      <td>0</td>\n",
       "      <td>1</td>\n",
       "      <td>1</td>\n",
       "      <td>0</td>\n",
       "      <td>1</td>\n",
       "      <td>0</td>\n",
       "      <td>0</td>\n",
       "      <td>0</td>\n",
       "      <td>...</td>\n",
       "      <td>-1</td>\n",
       "      <td>0.89475</td>\n",
       "      <td>1738</td>\n",
       "      <td>648</td>\n",
       "      <td>0.89475</td>\n",
       "      <td>42</td>\n",
       "      <td>0.89475</td>\n",
       "      <td>2</td>\n",
       "      <td>4</td>\n",
       "      <td>4</td>\n",
       "    </tr>\n",
       "    <tr>\n",
       "      <th>...</th>\n",
       "      <td>...</td>\n",
       "      <td>...</td>\n",
       "      <td>...</td>\n",
       "      <td>...</td>\n",
       "      <td>...</td>\n",
       "      <td>...</td>\n",
       "      <td>...</td>\n",
       "      <td>...</td>\n",
       "      <td>...</td>\n",
       "      <td>...</td>\n",
       "      <td>...</td>\n",
       "      <td>...</td>\n",
       "      <td>...</td>\n",
       "      <td>...</td>\n",
       "      <td>...</td>\n",
       "      <td>...</td>\n",
       "      <td>...</td>\n",
       "      <td>...</td>\n",
       "      <td>...</td>\n",
       "      <td>...</td>\n",
       "      <td>...</td>\n",
       "    </tr>\n",
       "    <tr>\n",
       "      <th>1766</th>\n",
       "      <td>0</td>\n",
       "      <td>0</td>\n",
       "      <td>0</td>\n",
       "      <td>0</td>\n",
       "      <td>0</td>\n",
       "      <td>0</td>\n",
       "      <td>0</td>\n",
       "      <td>0</td>\n",
       "      <td>0</td>\n",
       "      <td>0</td>\n",
       "      <td>...</td>\n",
       "      <td>9</td>\n",
       "      <td>0.44339</td>\n",
       "      <td>3423</td>\n",
       "      <td>649</td>\n",
       "      <td>0.44339</td>\n",
       "      <td>39</td>\n",
       "      <td>0.44339</td>\n",
       "      <td>1</td>\n",
       "      <td>4</td>\n",
       "      <td>4</td>\n",
       "    </tr>\n",
       "    <tr>\n",
       "      <th>1767</th>\n",
       "      <td>0</td>\n",
       "      <td>0</td>\n",
       "      <td>0</td>\n",
       "      <td>0</td>\n",
       "      <td>0</td>\n",
       "      <td>0</td>\n",
       "      <td>0</td>\n",
       "      <td>0</td>\n",
       "      <td>0</td>\n",
       "      <td>0</td>\n",
       "      <td>...</td>\n",
       "      <td>9</td>\n",
       "      <td>0.44086</td>\n",
       "      <td>3425</td>\n",
       "      <td>649</td>\n",
       "      <td>0.44086</td>\n",
       "      <td>20</td>\n",
       "      <td>0.44086</td>\n",
       "      <td>3</td>\n",
       "      <td>2</td>\n",
       "      <td>4</td>\n",
       "    </tr>\n",
       "    <tr>\n",
       "      <th>1768</th>\n",
       "      <td>0</td>\n",
       "      <td>0</td>\n",
       "      <td>0</td>\n",
       "      <td>0</td>\n",
       "      <td>0</td>\n",
       "      <td>0</td>\n",
       "      <td>0</td>\n",
       "      <td>0</td>\n",
       "      <td>0</td>\n",
       "      <td>0</td>\n",
       "      <td>...</td>\n",
       "      <td>9</td>\n",
       "      <td>0.32590</td>\n",
       "      <td>3426</td>\n",
       "      <td>649</td>\n",
       "      <td>0.32590</td>\n",
       "      <td>31</td>\n",
       "      <td>0.32590</td>\n",
       "      <td>3</td>\n",
       "      <td>3</td>\n",
       "      <td>4</td>\n",
       "    </tr>\n",
       "    <tr>\n",
       "      <th>1769</th>\n",
       "      <td>0</td>\n",
       "      <td>0</td>\n",
       "      <td>0</td>\n",
       "      <td>0</td>\n",
       "      <td>0</td>\n",
       "      <td>0</td>\n",
       "      <td>0</td>\n",
       "      <td>0</td>\n",
       "      <td>0</td>\n",
       "      <td>0</td>\n",
       "      <td>...</td>\n",
       "      <td>9</td>\n",
       "      <td>0.66970</td>\n",
       "      <td>3427</td>\n",
       "      <td>649</td>\n",
       "      <td>0.66970</td>\n",
       "      <td>47</td>\n",
       "      <td>0.66970</td>\n",
       "      <td>4</td>\n",
       "      <td>5</td>\n",
       "      <td>4</td>\n",
       "    </tr>\n",
       "    <tr>\n",
       "      <th>1770</th>\n",
       "      <td>0</td>\n",
       "      <td>0</td>\n",
       "      <td>0</td>\n",
       "      <td>0</td>\n",
       "      <td>0</td>\n",
       "      <td>0</td>\n",
       "      <td>0</td>\n",
       "      <td>0</td>\n",
       "      <td>0</td>\n",
       "      <td>0</td>\n",
       "      <td>...</td>\n",
       "      <td>9</td>\n",
       "      <td>0.39478</td>\n",
       "      <td>3434</td>\n",
       "      <td>649</td>\n",
       "      <td>0.39478</td>\n",
       "      <td>25</td>\n",
       "      <td>0.39478</td>\n",
       "      <td>4</td>\n",
       "      <td>3</td>\n",
       "      <td>4</td>\n",
       "    </tr>\n",
       "  </tbody>\n",
       "</table>\n",
       "<p>1771 rows × 370 columns</p>\n",
       "</div>"
      ],
      "text/plain": [
       "      cu041  cu042  cu043  cu044  cu045  cu046  cu047  cu048  cu049  cu0410  \\\n",
       "0         0      0      0      0      1      1      0      0      0       0   \n",
       "1         0      0      0      0      0      0      0      0      0       1   \n",
       "2         0      0      0      0      1      0      0      0      0       0   \n",
       "3         0      0      0      0      1      0      1      0      0       0   \n",
       "4         0      0      0      1      1      0      1      0      0       0   \n",
       "...     ...    ...    ...    ...    ...    ...    ...    ...    ...     ...   \n",
       "1766      0      0      0      0      0      0      0      0      0       0   \n",
       "1767      0      0      0      0      0      0      0      0      0       0   \n",
       "1768      0      0      0      0      0      0      0      0      0       0   \n",
       "1769      0      0      0      0      0      0      0      0      0       0   \n",
       "1770      0      0      0      0      0      0      0      0      0       0   \n",
       "\n",
       "      ...  intten  cx_971_980  serial  week      wts  numage  weight0  \\\n",
       "0     ...      -1     3.41659    1399   648  3.41659      37  3.41659   \n",
       "1     ...      -1     2.68198    1733   648  2.68198      55  2.68198   \n",
       "2     ...      -1     0.79379    1736   648  0.79379      71  0.79379   \n",
       "3     ...      -1     1.40580    1737   648  1.40580      37  1.40580   \n",
       "4     ...      -1     0.89475    1738   648  0.89475      42  0.89475   \n",
       "...   ...     ...         ...     ...   ...      ...     ...      ...   \n",
       "1766  ...       9     0.44339    3423   649  0.44339      39  0.44339   \n",
       "1767  ...       9     0.44086    3425   649  0.44086      20  0.44086   \n",
       "1768  ...       9     0.32590    3426   649  0.32590      31  0.32590   \n",
       "1769  ...       9     0.66970    3427   649  0.66970      47  0.66970   \n",
       "1770  ...       9     0.39478    3434   649  0.39478      25  0.39478   \n",
       "\n",
       "      sgrade_grp  age_grp  region2  \n",
       "0              1        4        3  \n",
       "1              2        6        3  \n",
       "2              2        7        4  \n",
       "3              1        4        4  \n",
       "4              2        4        4  \n",
       "...          ...      ...      ...  \n",
       "1766           1        4        4  \n",
       "1767           3        2        4  \n",
       "1768           3        3        4  \n",
       "1769           4        5        4  \n",
       "1770           4        3        4  \n",
       "\n",
       "[1771 rows x 370 columns]"
      ]
     },
     "execution_count": 6,
     "metadata": {},
     "output_type": "execute_result"
    }
   ],
   "source": [
    "data_raw"
   ]
  },
  {
   "cell_type": "markdown",
   "metadata": {
    "id": "DvJwVB7qJ6YX"
   },
   "source": [
    "Typically, one would start by looking the first lines, using:"
   ]
  },
  {
   "cell_type": "code",
   "execution_count": 7,
   "metadata": {
    "colab": {
     "base_uri": "https://localhost:8080/",
     "height": 252
    },
    "executionInfo": {
     "elapsed": 242,
     "status": "ok",
     "timestamp": 1631882744509,
     "user": {
      "displayName": "davide ghio",
      "photoUrl": "https://lh3.googleusercontent.com/a/default-user=s64",
      "userId": "16033550004002351519"
     },
     "user_tz": -120
    },
    "id": "75gXc8cXJ5gY",
    "outputId": "eaad3d67-d0df-4417-d95c-c30c67ff3d80"
   },
   "outputs": [
    {
     "data": {
      "text/html": [
       "<div>\n",
       "<style scoped>\n",
       "    .dataframe tbody tr th:only-of-type {\n",
       "        vertical-align: middle;\n",
       "    }\n",
       "\n",
       "    .dataframe tbody tr th {\n",
       "        vertical-align: top;\n",
       "    }\n",
       "\n",
       "    .dataframe thead th {\n",
       "        text-align: right;\n",
       "    }\n",
       "</style>\n",
       "<table border=\"1\" class=\"dataframe\">\n",
       "  <thead>\n",
       "    <tr style=\"text-align: right;\">\n",
       "      <th></th>\n",
       "      <th>cu041</th>\n",
       "      <th>cu042</th>\n",
       "      <th>cu043</th>\n",
       "      <th>cu044</th>\n",
       "      <th>cu045</th>\n",
       "      <th>cu046</th>\n",
       "      <th>cu047</th>\n",
       "      <th>cu048</th>\n",
       "      <th>cu049</th>\n",
       "      <th>cu0410</th>\n",
       "      <th>...</th>\n",
       "      <th>intten</th>\n",
       "      <th>cx_971_980</th>\n",
       "      <th>serial</th>\n",
       "      <th>week</th>\n",
       "      <th>wts</th>\n",
       "      <th>numage</th>\n",
       "      <th>weight0</th>\n",
       "      <th>sgrade_grp</th>\n",
       "      <th>age_grp</th>\n",
       "      <th>region2</th>\n",
       "    </tr>\n",
       "  </thead>\n",
       "  <tbody>\n",
       "    <tr>\n",
       "      <th>0</th>\n",
       "      <td>0</td>\n",
       "      <td>0</td>\n",
       "      <td>0</td>\n",
       "      <td>0</td>\n",
       "      <td>1</td>\n",
       "      <td>1</td>\n",
       "      <td>0</td>\n",
       "      <td>0</td>\n",
       "      <td>0</td>\n",
       "      <td>0</td>\n",
       "      <td>...</td>\n",
       "      <td>-1</td>\n",
       "      <td>3.41659</td>\n",
       "      <td>1399</td>\n",
       "      <td>648</td>\n",
       "      <td>3.41659</td>\n",
       "      <td>37</td>\n",
       "      <td>3.41659</td>\n",
       "      <td>1</td>\n",
       "      <td>4</td>\n",
       "      <td>3</td>\n",
       "    </tr>\n",
       "    <tr>\n",
       "      <th>1</th>\n",
       "      <td>0</td>\n",
       "      <td>0</td>\n",
       "      <td>0</td>\n",
       "      <td>0</td>\n",
       "      <td>0</td>\n",
       "      <td>0</td>\n",
       "      <td>0</td>\n",
       "      <td>0</td>\n",
       "      <td>0</td>\n",
       "      <td>1</td>\n",
       "      <td>...</td>\n",
       "      <td>-1</td>\n",
       "      <td>2.68198</td>\n",
       "      <td>1733</td>\n",
       "      <td>648</td>\n",
       "      <td>2.68198</td>\n",
       "      <td>55</td>\n",
       "      <td>2.68198</td>\n",
       "      <td>2</td>\n",
       "      <td>6</td>\n",
       "      <td>3</td>\n",
       "    </tr>\n",
       "    <tr>\n",
       "      <th>2</th>\n",
       "      <td>0</td>\n",
       "      <td>0</td>\n",
       "      <td>0</td>\n",
       "      <td>0</td>\n",
       "      <td>1</td>\n",
       "      <td>0</td>\n",
       "      <td>0</td>\n",
       "      <td>0</td>\n",
       "      <td>0</td>\n",
       "      <td>0</td>\n",
       "      <td>...</td>\n",
       "      <td>-1</td>\n",
       "      <td>0.79379</td>\n",
       "      <td>1736</td>\n",
       "      <td>648</td>\n",
       "      <td>0.79379</td>\n",
       "      <td>71</td>\n",
       "      <td>0.79379</td>\n",
       "      <td>2</td>\n",
       "      <td>7</td>\n",
       "      <td>4</td>\n",
       "    </tr>\n",
       "    <tr>\n",
       "      <th>3</th>\n",
       "      <td>0</td>\n",
       "      <td>0</td>\n",
       "      <td>0</td>\n",
       "      <td>0</td>\n",
       "      <td>1</td>\n",
       "      <td>0</td>\n",
       "      <td>1</td>\n",
       "      <td>0</td>\n",
       "      <td>0</td>\n",
       "      <td>0</td>\n",
       "      <td>...</td>\n",
       "      <td>-1</td>\n",
       "      <td>1.40580</td>\n",
       "      <td>1737</td>\n",
       "      <td>648</td>\n",
       "      <td>1.40580</td>\n",
       "      <td>37</td>\n",
       "      <td>1.40580</td>\n",
       "      <td>1</td>\n",
       "      <td>4</td>\n",
       "      <td>4</td>\n",
       "    </tr>\n",
       "    <tr>\n",
       "      <th>4</th>\n",
       "      <td>0</td>\n",
       "      <td>0</td>\n",
       "      <td>0</td>\n",
       "      <td>1</td>\n",
       "      <td>1</td>\n",
       "      <td>0</td>\n",
       "      <td>1</td>\n",
       "      <td>0</td>\n",
       "      <td>0</td>\n",
       "      <td>0</td>\n",
       "      <td>...</td>\n",
       "      <td>-1</td>\n",
       "      <td>0.89475</td>\n",
       "      <td>1738</td>\n",
       "      <td>648</td>\n",
       "      <td>0.89475</td>\n",
       "      <td>42</td>\n",
       "      <td>0.89475</td>\n",
       "      <td>2</td>\n",
       "      <td>4</td>\n",
       "      <td>4</td>\n",
       "    </tr>\n",
       "  </tbody>\n",
       "</table>\n",
       "<p>5 rows × 370 columns</p>\n",
       "</div>"
      ],
      "text/plain": [
       "   cu041  cu042  cu043  cu044  cu045  cu046  cu047  cu048  cu049  cu0410  ...  \\\n",
       "0      0      0      0      0      1      1      0      0      0       0  ...   \n",
       "1      0      0      0      0      0      0      0      0      0       1  ...   \n",
       "2      0      0      0      0      1      0      0      0      0       0  ...   \n",
       "3      0      0      0      0      1      0      1      0      0       0  ...   \n",
       "4      0      0      0      1      1      0      1      0      0       0  ...   \n",
       "\n",
       "   intten  cx_971_980  serial  week      wts  numage  weight0  sgrade_grp  \\\n",
       "0      -1     3.41659    1399   648  3.41659      37  3.41659           1   \n",
       "1      -1     2.68198    1733   648  2.68198      55  2.68198           2   \n",
       "2      -1     0.79379    1736   648  0.79379      71  0.79379           2   \n",
       "3      -1     1.40580    1737   648  1.40580      37  1.40580           1   \n",
       "4      -1     0.89475    1738   648  0.89475      42  0.89475           2   \n",
       "\n",
       "   age_grp  region2  \n",
       "0        4        3  \n",
       "1        6        3  \n",
       "2        7        4  \n",
       "3        4        4  \n",
       "4        4        4  \n",
       "\n",
       "[5 rows x 370 columns]"
      ]
     },
     "execution_count": 7,
     "metadata": {},
     "output_type": "execute_result"
    }
   ],
   "source": [
    "data_raw.head()"
   ]
  },
  {
   "cell_type": "markdown",
   "metadata": {
    "id": "v5Ayjvy2K6pA"
   },
   "source": [
    "Another useful pandas tool is `describe`, that is used to generate descriptive statistics of the data in a Pandas DataFrame\n"
   ]
  },
  {
   "cell_type": "code",
   "execution_count": 8,
   "metadata": {
    "colab": {
     "base_uri": "https://localhost:8080/",
     "height": 344
    },
    "executionInfo": {
     "elapsed": 1279,
     "status": "ok",
     "timestamp": 1631882812179,
     "user": {
      "displayName": "davide ghio",
      "photoUrl": "https://lh3.googleusercontent.com/a/default-user=s64",
      "userId": "16033550004002351519"
     },
     "user_tz": -120
    },
    "id": "ZtJqGq_0LBhX",
    "outputId": "ee5e0da5-2c0a-4560-de03-3eeab0760fa3"
   },
   "outputs": [
    {
     "data": {
      "text/html": [
       "<div>\n",
       "<style scoped>\n",
       "    .dataframe tbody tr th:only-of-type {\n",
       "        vertical-align: middle;\n",
       "    }\n",
       "\n",
       "    .dataframe tbody tr th {\n",
       "        vertical-align: top;\n",
       "    }\n",
       "\n",
       "    .dataframe thead th {\n",
       "        text-align: right;\n",
       "    }\n",
       "</style>\n",
       "<table border=\"1\" class=\"dataframe\">\n",
       "  <thead>\n",
       "    <tr style=\"text-align: right;\">\n",
       "      <th></th>\n",
       "      <th>cu041</th>\n",
       "      <th>cu042</th>\n",
       "      <th>cu043</th>\n",
       "      <th>cu044</th>\n",
       "      <th>cu045</th>\n",
       "      <th>cu046</th>\n",
       "      <th>cu047</th>\n",
       "      <th>cu048</th>\n",
       "      <th>cu049</th>\n",
       "      <th>cu0410</th>\n",
       "      <th>...</th>\n",
       "      <th>intten</th>\n",
       "      <th>cx_971_980</th>\n",
       "      <th>serial</th>\n",
       "      <th>week</th>\n",
       "      <th>wts</th>\n",
       "      <th>numage</th>\n",
       "      <th>weight0</th>\n",
       "      <th>sgrade_grp</th>\n",
       "      <th>age_grp</th>\n",
       "      <th>region2</th>\n",
       "    </tr>\n",
       "  </thead>\n",
       "  <tbody>\n",
       "    <tr>\n",
       "      <th>count</th>\n",
       "      <td>1771.000000</td>\n",
       "      <td>1771.000000</td>\n",
       "      <td>1771.000000</td>\n",
       "      <td>1771.000000</td>\n",
       "      <td>1771.000000</td>\n",
       "      <td>1771.000000</td>\n",
       "      <td>1771.000000</td>\n",
       "      <td>1771.000000</td>\n",
       "      <td>1771.000000</td>\n",
       "      <td>1771.000000</td>\n",
       "      <td>...</td>\n",
       "      <td>1771.000000</td>\n",
       "      <td>1771.000000</td>\n",
       "      <td>1771.000000</td>\n",
       "      <td>1771.000000</td>\n",
       "      <td>1771.000000</td>\n",
       "      <td>1771.000000</td>\n",
       "      <td>1771.000000</td>\n",
       "      <td>1771.000000</td>\n",
       "      <td>1771.000000</td>\n",
       "      <td>1771.000000</td>\n",
       "    </tr>\n",
       "    <tr>\n",
       "      <th>mean</th>\n",
       "      <td>0.119706</td>\n",
       "      <td>0.038396</td>\n",
       "      <td>0.063241</td>\n",
       "      <td>0.122530</td>\n",
       "      <td>0.231508</td>\n",
       "      <td>0.189723</td>\n",
       "      <td>0.104461</td>\n",
       "      <td>0.040090</td>\n",
       "      <td>0.058159</td>\n",
       "      <td>0.041784</td>\n",
       "      <td>...</td>\n",
       "      <td>1.102767</td>\n",
       "      <td>1.000000</td>\n",
       "      <td>2591.394692</td>\n",
       "      <td>648.252964</td>\n",
       "      <td>1.000000</td>\n",
       "      <td>46.421231</td>\n",
       "      <td>1.000000</td>\n",
       "      <td>2.429701</td>\n",
       "      <td>4.670243</td>\n",
       "      <td>4.006211</td>\n",
       "    </tr>\n",
       "    <tr>\n",
       "      <th>std</th>\n",
       "      <td>0.324710</td>\n",
       "      <td>0.192206</td>\n",
       "      <td>0.243465</td>\n",
       "      <td>0.327989</td>\n",
       "      <td>0.421915</td>\n",
       "      <td>0.392193</td>\n",
       "      <td>0.305944</td>\n",
       "      <td>0.196227</td>\n",
       "      <td>0.234110</td>\n",
       "      <td>0.200152</td>\n",
       "      <td>...</td>\n",
       "      <td>3.969324</td>\n",
       "      <td>0.772496</td>\n",
       "      <td>576.149480</td>\n",
       "      <td>0.434834</td>\n",
       "      <td>0.772496</td>\n",
       "      <td>18.625718</td>\n",
       "      <td>0.772496</td>\n",
       "      <td>1.101616</td>\n",
       "      <td>1.848105</td>\n",
       "      <td>1.626568</td>\n",
       "    </tr>\n",
       "    <tr>\n",
       "      <th>min</th>\n",
       "      <td>0.000000</td>\n",
       "      <td>0.000000</td>\n",
       "      <td>0.000000</td>\n",
       "      <td>0.000000</td>\n",
       "      <td>0.000000</td>\n",
       "      <td>0.000000</td>\n",
       "      <td>0.000000</td>\n",
       "      <td>0.000000</td>\n",
       "      <td>0.000000</td>\n",
       "      <td>0.000000</td>\n",
       "      <td>...</td>\n",
       "      <td>-1.000000</td>\n",
       "      <td>0.068530</td>\n",
       "      <td>1012.000000</td>\n",
       "      <td>648.000000</td>\n",
       "      <td>0.068530</td>\n",
       "      <td>0.000000</td>\n",
       "      <td>0.068530</td>\n",
       "      <td>1.000000</td>\n",
       "      <td>1.000000</td>\n",
       "      <td>1.000000</td>\n",
       "    </tr>\n",
       "    <tr>\n",
       "      <th>25%</th>\n",
       "      <td>0.000000</td>\n",
       "      <td>0.000000</td>\n",
       "      <td>0.000000</td>\n",
       "      <td>0.000000</td>\n",
       "      <td>0.000000</td>\n",
       "      <td>0.000000</td>\n",
       "      <td>0.000000</td>\n",
       "      <td>0.000000</td>\n",
       "      <td>0.000000</td>\n",
       "      <td>0.000000</td>\n",
       "      <td>...</td>\n",
       "      <td>-1.000000</td>\n",
       "      <td>0.483895</td>\n",
       "      <td>2183.000000</td>\n",
       "      <td>648.000000</td>\n",
       "      <td>0.483895</td>\n",
       "      <td>31.000000</td>\n",
       "      <td>0.483895</td>\n",
       "      <td>2.000000</td>\n",
       "      <td>3.000000</td>\n",
       "      <td>3.000000</td>\n",
       "    </tr>\n",
       "    <tr>\n",
       "      <th>50%</th>\n",
       "      <td>0.000000</td>\n",
       "      <td>0.000000</td>\n",
       "      <td>0.000000</td>\n",
       "      <td>0.000000</td>\n",
       "      <td>0.000000</td>\n",
       "      <td>0.000000</td>\n",
       "      <td>0.000000</td>\n",
       "      <td>0.000000</td>\n",
       "      <td>0.000000</td>\n",
       "      <td>0.000000</td>\n",
       "      <td>...</td>\n",
       "      <td>-1.000000</td>\n",
       "      <td>0.801870</td>\n",
       "      <td>2624.000000</td>\n",
       "      <td>648.000000</td>\n",
       "      <td>0.801870</td>\n",
       "      <td>45.000000</td>\n",
       "      <td>0.801870</td>\n",
       "      <td>2.000000</td>\n",
       "      <td>5.000000</td>\n",
       "      <td>4.000000</td>\n",
       "    </tr>\n",
       "    <tr>\n",
       "      <th>75%</th>\n",
       "      <td>0.000000</td>\n",
       "      <td>0.000000</td>\n",
       "      <td>0.000000</td>\n",
       "      <td>0.000000</td>\n",
       "      <td>0.000000</td>\n",
       "      <td>0.000000</td>\n",
       "      <td>0.000000</td>\n",
       "      <td>0.000000</td>\n",
       "      <td>0.000000</td>\n",
       "      <td>0.000000</td>\n",
       "      <td>...</td>\n",
       "      <td>-1.000000</td>\n",
       "      <td>1.279665</td>\n",
       "      <td>3067.500000</td>\n",
       "      <td>649.000000</td>\n",
       "      <td>1.279665</td>\n",
       "      <td>61.500000</td>\n",
       "      <td>1.279665</td>\n",
       "      <td>3.000000</td>\n",
       "      <td>6.000000</td>\n",
       "      <td>5.000000</td>\n",
       "    </tr>\n",
       "    <tr>\n",
       "      <th>max</th>\n",
       "      <td>1.000000</td>\n",
       "      <td>1.000000</td>\n",
       "      <td>1.000000</td>\n",
       "      <td>1.000000</td>\n",
       "      <td>1.000000</td>\n",
       "      <td>1.000000</td>\n",
       "      <td>1.000000</td>\n",
       "      <td>1.000000</td>\n",
       "      <td>1.000000</td>\n",
       "      <td>1.000000</td>\n",
       "      <td>...</td>\n",
       "      <td>10.000000</td>\n",
       "      <td>6.669790</td>\n",
       "      <td>3495.000000</td>\n",
       "      <td>649.000000</td>\n",
       "      <td>6.669790</td>\n",
       "      <td>92.000000</td>\n",
       "      <td>6.669790</td>\n",
       "      <td>4.000000</td>\n",
       "      <td>8.000000</td>\n",
       "      <td>6.000000</td>\n",
       "    </tr>\n",
       "  </tbody>\n",
       "</table>\n",
       "<p>8 rows × 370 columns</p>\n",
       "</div>"
      ],
      "text/plain": [
       "             cu041        cu042        cu043        cu044        cu045  \\\n",
       "count  1771.000000  1771.000000  1771.000000  1771.000000  1771.000000   \n",
       "mean      0.119706     0.038396     0.063241     0.122530     0.231508   \n",
       "std       0.324710     0.192206     0.243465     0.327989     0.421915   \n",
       "min       0.000000     0.000000     0.000000     0.000000     0.000000   \n",
       "25%       0.000000     0.000000     0.000000     0.000000     0.000000   \n",
       "50%       0.000000     0.000000     0.000000     0.000000     0.000000   \n",
       "75%       0.000000     0.000000     0.000000     0.000000     0.000000   \n",
       "max       1.000000     1.000000     1.000000     1.000000     1.000000   \n",
       "\n",
       "             cu046        cu047        cu048        cu049       cu0410  ...  \\\n",
       "count  1771.000000  1771.000000  1771.000000  1771.000000  1771.000000  ...   \n",
       "mean      0.189723     0.104461     0.040090     0.058159     0.041784  ...   \n",
       "std       0.392193     0.305944     0.196227     0.234110     0.200152  ...   \n",
       "min       0.000000     0.000000     0.000000     0.000000     0.000000  ...   \n",
       "25%       0.000000     0.000000     0.000000     0.000000     0.000000  ...   \n",
       "50%       0.000000     0.000000     0.000000     0.000000     0.000000  ...   \n",
       "75%       0.000000     0.000000     0.000000     0.000000     0.000000  ...   \n",
       "max       1.000000     1.000000     1.000000     1.000000     1.000000  ...   \n",
       "\n",
       "            intten   cx_971_980       serial         week          wts  \\\n",
       "count  1771.000000  1771.000000  1771.000000  1771.000000  1771.000000   \n",
       "mean      1.102767     1.000000  2591.394692   648.252964     1.000000   \n",
       "std       3.969324     0.772496   576.149480     0.434834     0.772496   \n",
       "min      -1.000000     0.068530  1012.000000   648.000000     0.068530   \n",
       "25%      -1.000000     0.483895  2183.000000   648.000000     0.483895   \n",
       "50%      -1.000000     0.801870  2624.000000   648.000000     0.801870   \n",
       "75%      -1.000000     1.279665  3067.500000   649.000000     1.279665   \n",
       "max      10.000000     6.669790  3495.000000   649.000000     6.669790   \n",
       "\n",
       "            numage      weight0   sgrade_grp      age_grp      region2  \n",
       "count  1771.000000  1771.000000  1771.000000  1771.000000  1771.000000  \n",
       "mean     46.421231     1.000000     2.429701     4.670243     4.006211  \n",
       "std      18.625718     0.772496     1.101616     1.848105     1.626568  \n",
       "min       0.000000     0.068530     1.000000     1.000000     1.000000  \n",
       "25%      31.000000     0.483895     2.000000     3.000000     3.000000  \n",
       "50%      45.000000     0.801870     2.000000     5.000000     4.000000  \n",
       "75%      61.500000     1.279665     3.000000     6.000000     5.000000  \n",
       "max      92.000000     6.669790     4.000000     8.000000     6.000000  \n",
       "\n",
       "[8 rows x 370 columns]"
      ]
     },
     "execution_count": 8,
     "metadata": {},
     "output_type": "execute_result"
    }
   ],
   "source": [
    "data_raw.describe()"
   ]
  },
  {
   "cell_type": "markdown",
   "metadata": {
    "id": "L4LMkig3kZtm"
   },
   "source": [
    "In these dats, the different columns correspond to different $\\textbf{features}$, many of these are useless for our goals since we are interested just in the age of the person and how she/he voted. The line corresponds to all the people that were interviewed.  The code for this two features are respectively \"cut15\" and \"numage\", let's focus on them and change the nomenclature for having a new nice-looking dataframe.\n",
    "\n",
    "\n"
   ]
  },
  {
   "cell_type": "code",
   "execution_count": 9,
   "metadata": {
    "id": "o9I1QluQkZtn"
   },
   "outputs": [],
   "source": [
    "# Feature selection\n",
    "data = data_raw[['numage', 'cut15']]\n",
    "# Rename columns\n",
    "data.columns = ['age', 'vote']"
   ]
  },
  {
   "cell_type": "markdown",
   "metadata": {
    "id": "n26gKwuLkZtn"
   },
   "source": [
    "The possible answer to the question - How did you vote on the question ‘Should the United Kingdom remain a member of the European Union or leave the European Union’?” - are encoded through $\\textbf{labels}$, i.e. a number going from 1 to 6 encoding what was the answer:"
   ]
  },
  {
   "cell_type": "markdown",
   "metadata": {
    "id": "vSRmeu_iSc8G"
   },
   "source": [
    "Value = 1.0 $\\qquad$ Label = Remain a member of the European Union\n",
    "\n",
    "Value = 2.0 $\\qquad$   Label = Leave the European Union\n",
    "\n",
    "Value = 3.0 $\\qquad$   Label = Did not vote\n",
    "\n",
    "Value = 4.0 $\\qquad$   Label = Too young\n",
    "\n",
    "Value = 5.0 $\\qquad$   Label = Can't remember\n",
    "\n",
    "Value = 6.0 $\\qquad$   Label = Refused"
   ]
  },
  {
   "cell_type": "code",
   "execution_count": 10,
   "metadata": {
    "colab": {
     "base_uri": "https://localhost:8080/",
     "height": 203
    },
    "executionInfo": {
     "elapsed": 196,
     "status": "ok",
     "timestamp": 1631882929414,
     "user": {
      "displayName": "davide ghio",
      "photoUrl": "https://lh3.googleusercontent.com/a/default-user=s64",
      "userId": "16033550004002351519"
     },
     "user_tz": -120
    },
    "id": "MsliY_b6kZto",
    "outputId": "53f3d5f0-cdb5-4f48-bb35-ed5ce36c50f4",
    "scrolled": true
   },
   "outputs": [
    {
     "data": {
      "text/html": [
       "<div>\n",
       "<style scoped>\n",
       "    .dataframe tbody tr th:only-of-type {\n",
       "        vertical-align: middle;\n",
       "    }\n",
       "\n",
       "    .dataframe tbody tr th {\n",
       "        vertical-align: top;\n",
       "    }\n",
       "\n",
       "    .dataframe thead th {\n",
       "        text-align: right;\n",
       "    }\n",
       "</style>\n",
       "<table border=\"1\" class=\"dataframe\">\n",
       "  <thead>\n",
       "    <tr style=\"text-align: right;\">\n",
       "      <th></th>\n",
       "      <th>age</th>\n",
       "      <th>vote</th>\n",
       "    </tr>\n",
       "  </thead>\n",
       "  <tbody>\n",
       "    <tr>\n",
       "      <th>0</th>\n",
       "      <td>37</td>\n",
       "      <td>1</td>\n",
       "    </tr>\n",
       "    <tr>\n",
       "      <th>1</th>\n",
       "      <td>55</td>\n",
       "      <td>1</td>\n",
       "    </tr>\n",
       "    <tr>\n",
       "      <th>2</th>\n",
       "      <td>71</td>\n",
       "      <td>2</td>\n",
       "    </tr>\n",
       "    <tr>\n",
       "      <th>3</th>\n",
       "      <td>37</td>\n",
       "      <td>1</td>\n",
       "    </tr>\n",
       "    <tr>\n",
       "      <th>4</th>\n",
       "      <td>42</td>\n",
       "      <td>1</td>\n",
       "    </tr>\n",
       "  </tbody>\n",
       "</table>\n",
       "</div>"
      ],
      "text/plain": [
       "   age  vote\n",
       "0   37     1\n",
       "1   55     1\n",
       "2   71     2\n",
       "3   37     1\n",
       "4   42     1"
      ]
     },
     "execution_count": 10,
     "metadata": {},
     "output_type": "execute_result"
    }
   ],
   "source": [
    "# Let's see how it looks like now\n",
    "data.head()"
   ]
  },
  {
   "cell_type": "markdown",
   "metadata": {
    "id": "15ZcekWWW9cH"
   },
   "source": [
    "We can use `data.sort_values` to sort the dataset by age"
   ]
  },
  {
   "cell_type": "code",
   "execution_count": 11,
   "metadata": {
    "colab": {
     "base_uri": "https://localhost:8080/",
     "height": 417
    },
    "executionInfo": {
     "elapsed": 236,
     "status": "ok",
     "timestamp": 1631883014356,
     "user": {
      "displayName": "davide ghio",
      "photoUrl": "https://lh3.googleusercontent.com/a/default-user=s64",
      "userId": "16033550004002351519"
     },
     "user_tz": -120
    },
    "id": "DapK84t6TsEc",
    "outputId": "2919efb3-8d7c-4d36-e142-1c8fc56e4eb1"
   },
   "outputs": [
    {
     "data": {
      "text/html": [
       "<div>\n",
       "<style scoped>\n",
       "    .dataframe tbody tr th:only-of-type {\n",
       "        vertical-align: middle;\n",
       "    }\n",
       "\n",
       "    .dataframe tbody tr th {\n",
       "        vertical-align: top;\n",
       "    }\n",
       "\n",
       "    .dataframe thead th {\n",
       "        text-align: right;\n",
       "    }\n",
       "</style>\n",
       "<table border=\"1\" class=\"dataframe\">\n",
       "  <thead>\n",
       "    <tr style=\"text-align: right;\">\n",
       "      <th></th>\n",
       "      <th>age</th>\n",
       "      <th>vote</th>\n",
       "    </tr>\n",
       "  </thead>\n",
       "  <tbody>\n",
       "    <tr>\n",
       "      <th>519</th>\n",
       "      <td>0</td>\n",
       "      <td>2</td>\n",
       "    </tr>\n",
       "    <tr>\n",
       "      <th>1627</th>\n",
       "      <td>0</td>\n",
       "      <td>1</td>\n",
       "    </tr>\n",
       "    <tr>\n",
       "      <th>172</th>\n",
       "      <td>0</td>\n",
       "      <td>6</td>\n",
       "    </tr>\n",
       "    <tr>\n",
       "      <th>412</th>\n",
       "      <td>0</td>\n",
       "      <td>2</td>\n",
       "    </tr>\n",
       "    <tr>\n",
       "      <th>1511</th>\n",
       "      <td>0</td>\n",
       "      <td>3</td>\n",
       "    </tr>\n",
       "    <tr>\n",
       "      <th>...</th>\n",
       "      <td>...</td>\n",
       "      <td>...</td>\n",
       "    </tr>\n",
       "    <tr>\n",
       "      <th>525</th>\n",
       "      <td>91</td>\n",
       "      <td>2</td>\n",
       "    </tr>\n",
       "    <tr>\n",
       "      <th>371</th>\n",
       "      <td>92</td>\n",
       "      <td>1</td>\n",
       "    </tr>\n",
       "    <tr>\n",
       "      <th>1518</th>\n",
       "      <td>92</td>\n",
       "      <td>2</td>\n",
       "    </tr>\n",
       "    <tr>\n",
       "      <th>1557</th>\n",
       "      <td>92</td>\n",
       "      <td>2</td>\n",
       "    </tr>\n",
       "    <tr>\n",
       "      <th>405</th>\n",
       "      <td>92</td>\n",
       "      <td>1</td>\n",
       "    </tr>\n",
       "  </tbody>\n",
       "</table>\n",
       "<p>1771 rows × 2 columns</p>\n",
       "</div>"
      ],
      "text/plain": [
       "      age  vote\n",
       "519     0     2\n",
       "1627    0     1\n",
       "172     0     6\n",
       "412     0     2\n",
       "1511    0     3\n",
       "...   ...   ...\n",
       "525    91     2\n",
       "371    92     1\n",
       "1518   92     2\n",
       "1557   92     2\n",
       "405    92     1\n",
       "\n",
       "[1771 rows x 2 columns]"
      ]
     },
     "execution_count": 11,
     "metadata": {},
     "output_type": "execute_result"
    }
   ],
   "source": [
    "data.sort_values(by='age')"
   ]
  },
  {
   "cell_type": "markdown",
   "metadata": {
    "id": "35dFiX99kZto"
   },
   "source": [
    "We must do again a feature selection since we want to analyze just the age of Brexiteers and Remainers and because we see that there are some artifacts in the age column (many zeros appearing). "
   ]
  },
  {
   "cell_type": "code",
   "execution_count": 12,
   "metadata": {
    "colab": {
     "base_uri": "https://localhost:8080/"
    },
    "executionInfo": {
     "elapsed": 220,
     "status": "ok",
     "timestamp": 1631883237329,
     "user": {
      "displayName": "davide ghio",
      "photoUrl": "https://lh3.googleusercontent.com/a/default-user=s64",
      "userId": "16033550004002351519"
     },
     "user_tz": -120
    },
    "id": "2XFl6PjYkZto",
    "outputId": "6a14f789-52d8-4f3a-ee02-dd33e093d8f1"
   },
   "outputs": [
    {
     "name": "stdout",
     "output_type": "stream",
     "text": [
      "The percentage of brexiteers is 0.4114068441064639\n"
     ]
    }
   ],
   "source": [
    "# Remove zeros in the age column \n",
    "data = data[data['age'] != 0]\n",
    "\n",
    "# Create the remainer and brexiters data frames by selecting the vote \n",
    "remainers = data[data['vote'] == 1]\n",
    "brexiteers = data[data['vote'] == 2]\n",
    "\n",
    "# We actually have in this poll less brexiteers than remainers, we compute using the function \"len\"\n",
    "print(f\"The percentage of brexiteers is {len(brexiteers)/(len(brexiteers) + len(remainers))}\")"
   ]
  },
  {
   "cell_type": "markdown",
   "metadata": {
    "id": "Vx39QFrXkZto"
   },
   "source": [
    "Let's have a look at the age distribution for the two. We import `matplotlib` for doing so, another well-known and important package that we shall use all the time.\n"
   ]
  },
  {
   "cell_type": "code",
   "execution_count": 13,
   "metadata": {
    "id": "FLY2E8eQkZtp"
   },
   "outputs": [],
   "source": [
    "import matplotlib.pyplot as plt"
   ]
  },
  {
   "cell_type": "code",
   "execution_count": 14,
   "metadata": {
    "colab": {
     "base_uri": "https://localhost:8080/",
     "height": 514
    },
    "executionInfo": {
     "elapsed": 885,
     "status": "ok",
     "timestamp": 1631883571969,
     "user": {
      "displayName": "davide ghio",
      "photoUrl": "https://lh3.googleusercontent.com/a/default-user=s64",
      "userId": "16033550004002351519"
     },
     "user_tz": -120
    },
    "id": "7Q_l54_ukZtp",
    "outputId": "31f2345c-c8aa-444a-c74b-5697d495fb68"
   },
   "outputs": [
    {
     "data": {
      "text/plain": [
       "Text(0, 0.5, '# (people)')"
      ]
     },
     "execution_count": 14,
     "metadata": {},
     "output_type": "execute_result"
    },
    {
     "data": {
      "image/png": "[encoded data removed]",
      "text/plain": [
       "<Figure size 2000x700 with 2 Axes>"
      ]
     },
     "metadata": {},
     "output_type": "display_data"
    }
   ],
   "source": [
    "%matplotlib inline\n",
    "fig, ax = plt.subplots(1,2, figsize=(20,7), sharex=True)\n",
    "plt.suptitle(\"Age distribution\", fontsize=16)\n",
    "ax[0].set_title(f\"Brexiteers\", fontsize=14)\n",
    "ax[0].hist(brexiteers['age'], color ='darkred')\n",
    "ax[0].set_xlabel(\"Age\", fontsize = 14)\n",
    "ax[0].set_ylabel(\"# (people)\", fontsize = 14)\n",
    "\n",
    "ax[1].set_title(f\"Remainers\", fontsize=14)\n",
    "ax[1].hist(remainers['age'], color ='darkblue')\n",
    "ax[1].set_xlabel(\"Age\", fontsize = 14)\n",
    "ax[1].set_ylabel(\"# (people)\", fontsize = 14)\n"
   ]
  },
  {
   "cell_type": "markdown",
   "metadata": {
    "id": "uV8-pYqVkZtp"
   },
   "source": [
    "Let's compute now the averages and compare them, using another well-known python package:"
   ]
  },
  {
   "cell_type": "code",
   "execution_count": 15,
   "metadata": {
    "colab": {
     "base_uri": "https://localhost:8080/"
    },
    "executionInfo": {
     "elapsed": 241,
     "status": "ok",
     "timestamp": 1631884933633,
     "user": {
      "displayName": "davide ghio",
      "photoUrl": "https://lh3.googleusercontent.com/a/default-user=s64",
      "userId": "16033550004002351519"
     },
     "user_tz": -120
    },
    "id": "m9a8H9BFkZtp",
    "outputId": "6a3d1277-e1e4-4cd6-dc3d-7c4d2ee15cae"
   },
   "outputs": [
    {
     "name": "stdout",
     "output_type": "stream",
     "text": [
      "The difference in average age is 3.6998380833655773\n"
     ]
    }
   ],
   "source": [
    "import numpy as np\n",
    "\n",
    "avg_brex = np.mean(brexiteers['age'])\n",
    "avg_rem = np.mean(remainers['age'])\n",
    "\n",
    "dataset_property = avg_brex - avg_rem\n",
    "print(f\"The difference in average age is {dataset_property}\")"
   ]
  },
  {
   "cell_type": "markdown",
   "metadata": {
    "id": "IDib6OPOkZtq"
   },
   "source": [
    "### $\\color{darkblue}{\\text{Hypothesis testing}}$ "
   ]
  },
  {
   "cell_type": "markdown",
   "metadata": {
    "id": "sezDyfcxkZtq"
   },
   "source": [
    "Let's answer the very first question we asked ourselves: how can we quantify our level of confidence in stating that this difference is $\\textbf{NOT}$ given by low sample-size effect? "
   ]
  },
  {
   "cell_type": "markdown",
   "metadata": {
    "id": "6Mft4epakZtq"
   },
   "source": [
    "The answer is incredibly fascinating in its simplicity and effectiveness. The idea is the following: \n",
    "* *Create new datasets by permuting randomly the labels* \n",
    "* *Compute the differences in this new randomly drawn datasets*\n",
    "* *See how many times the differences are higher than the experimental one*"
   ]
  },
  {
   "cell_type": "markdown",
   "metadata": {
    "id": "F0xqZkwekZtq"
   },
   "source": [
    "We must create equivalent datasets made of a randomized group of 541 people (Group A) and another made of 774 (Group B) corresponding to what previously were respectively brexiteers and remainers."
   ]
  },
  {
   "cell_type": "code",
   "execution_count": 16,
   "metadata": {
    "colab": {
     "base_uri": "https://localhost:8080/"
    },
    "executionInfo": {
     "elapsed": 242,
     "status": "ok",
     "timestamp": 1631885048664,
     "user": {
      "displayName": "davide ghio",
      "photoUrl": "https://lh3.googleusercontent.com/a/default-user=s64",
      "userId": "16033550004002351519"
     },
     "user_tz": -120
    },
    "id": "ahlEJprOkZtq",
    "outputId": "e8692434-afa4-4149-db5c-7ad5f9d3f00b"
   },
   "outputs": [
    {
     "name": "stdout",
     "output_type": "stream",
     "text": [
      "1315\n"
     ]
    }
   ],
   "source": [
    "# Create a list with all ages\n",
    "\n",
    "global_stat = list(brexiteers['age']) +  list(remainers['age'])\n",
    "\n",
    "print(len(global_stat))"
   ]
  },
  {
   "cell_type": "markdown",
   "metadata": {
    "id": "kvZfqqNPkZtr"
   },
   "source": [
    "Import random package for computing random permutations"
   ]
  },
  {
   "cell_type": "code",
   "execution_count": 17,
   "metadata": {
    "id": "_jtXJJ2fkZtr"
   },
   "outputs": [],
   "source": [
    "import random "
   ]
  },
  {
   "cell_type": "markdown",
   "metadata": {
    "id": "acj_aQAAkZtr"
   },
   "source": [
    "Let's create 10000 new shuffled datasets and let's keep track when one difference in average ages is greater than the observed experimental one"
   ]
  },
  {
   "cell_type": "code",
   "execution_count": null,
   "metadata": {
    "id": "RTwqupCBkZtr"
   },
   "outputs": [],
   "source": [
    "trials = 10000  ; count = 0\n",
    "\n",
    "for dumb in range(trials):\n",
    "    # Compute shuffled ages\n",
    "    random.shuffle(global_stat)\n",
    "    # Compute average of Group A\n",
    "    avg_A = sum(global_stat[:541])/541 \n",
    "    # Compute average of Group B\n",
    "    avg_B = sum(global_stat[541:])/774 \n",
    "    # Compute new shuffled difference \n",
    "    diff = avg_A - avg_B\n",
    "    if diff > dataset_property:\n",
    "        count +=1"
   ]
  },
  {
   "cell_type": "markdown",
   "metadata": {
    "id": "6ma70vUUkZtr"
   },
   "source": [
    "...and we finally arrive to the result"
   ]
  },
  {
   "cell_type": "code",
   "execution_count": null,
   "metadata": {
    "colab": {
     "base_uri": "https://localhost:8080/"
    },
    "executionInfo": {
     "elapsed": 65,
     "status": "ok",
     "timestamp": 1631885226066,
     "user": {
      "displayName": "davide ghio",
      "photoUrl": "https://lh3.googleusercontent.com/a/default-user=s64",
      "userId": "16033550004002351519"
     },
     "user_tz": -120
    },
    "id": "k4RYL1_pkZtr",
    "outputId": "f223f691-760b-4a0d-d887-4dd1fb26c1b8"
   },
   "outputs": [],
   "source": [
    "print(f\"The average age of Group A minus the one of Group B was greater than {dataset_property} {count} times\") "
   ]
  },
  {
   "cell_type": "markdown",
   "metadata": {
    "id": "LfxiGAGIkZts"
   },
   "source": [
    "We could safely $\\textbf{reject}$ the null hypothesis "
   ]
  },
  {
   "cell_type": "markdown",
   "metadata": {
    "id": "Ak3GTT6qk4rI"
   },
   "source": [
    "## $\\color{purple}{\\text{Bootstrap}}$ "
   ]
  },
  {
   "cell_type": "markdown",
   "metadata": {
    "id": "p05uNZyMnxav"
   },
   "source": [
    "**Bootstrap** is a resampling strategy with replacement that requires no assumptions about the data distribution. \n",
    "\n",
    "It allows us to make inferences about the population statistics when we only have a finite number of samples. In the following we will see how to use it to evaluate the **confidence interval** and the **variance** of an estimator, but it has many other applications.\n",
    "\n",
    "Even when we only have one sample, the bootstrap method provides a good enough approximation of the true population statistics."
   ]
  },
  {
   "cell_type": "markdown",
   "metadata": {
    "id": "cxNaDN7Gn0g1"
   },
   "source": [
    "### $\\color{darkblue}{\\text{Bootstrap and Confidence Interval}}$"
   ]
  },
  {
   "cell_type": "markdown",
   "metadata": {
    "id": "eqJygVRRpaXv"
   },
   "source": [
    "Question: **With one sample, how can we calculate the Confidence Interval for the median age of the Brexiteers and Remainers?**"
   ]
  },
  {
   "cell_type": "markdown",
   "metadata": {
    "id": "BieSf161elNG"
   },
   "source": [
    "Let's recall the dataset and isolate the age feature."
   ]
  },
  {
   "cell_type": "markdown",
   "metadata": {
    "id": "s0nA7e8sh1Ci"
   },
   "source": [
    "To do so we take a single column of the dataset, which is an object called `Series`, and turn it into a `numpy.ndarray` using `pd.Series.to_numpy`"
   ]
  },
  {
   "cell_type": "code",
   "execution_count": null,
   "metadata": {
    "id": "g4A_kIF-eogh"
   },
   "outputs": [],
   "source": [
    "brexit_ages = pd.Series.to_numpy(brexiteers['age'])\n",
    "remain_ages = pd.Series.to_numpy(remainers['age'])"
   ]
  },
  {
   "cell_type": "markdown",
   "metadata": {
    "id": "R59iurOsp-nc"
   },
   "source": [
    "First of all we compute the median for the two groups."
   ]
  },
  {
   "cell_type": "markdown",
   "metadata": {
    "id": "MhuANcdofDyx"
   },
   "source": [
    "Firstly try to do it by hand, building the function *median_value()*:"
   ]
  },
  {
   "cell_type": "code",
   "execution_count": null,
   "metadata": {
    "id": "qd6OUEJvnI_Q"
   },
   "outputs": [],
   "source": [
    "def median_value(array):\n",
    "    \n",
    "    #do it by yourself\n",
    "        \n",
    "    return median "
   ]
  },
  {
   "cell_type": "code",
   "execution_count": null,
   "metadata": {
    "id": "EUCT3MHdtcnB"
   },
   "outputs": [],
   "source": [
    "#Try to print the median age of brexiteers and remainers"
   ]
  },
  {
   "cell_type": "markdown",
   "metadata": {
    "id": "OhEQuYMQfmYV"
   },
   "source": [
    "Alternatively, one can use the `numpy` library and directly compute the median"
   ]
  },
  {
   "cell_type": "code",
   "execution_count": null,
   "metadata": {
    "id": "po3ocPhDBHj6"
   },
   "outputs": [],
   "source": [
    "print(f\"The median age of brexiteers is {np.median(brexit_ages)} while the one of remainers is {np.median(remain_ages)}\")"
   ]
  },
  {
   "cell_type": "markdown",
   "metadata": {
    "id": "DQM-yg3AgRKY"
   },
   "source": [
    "Now we use **bootstrap**: we repeatedly sample the two groups with replacement with the same sample size"
   ]
  },
  {
   "cell_type": "markdown",
   "metadata": {
    "id": "2baTznEsgwWg"
   },
   "source": [
    "Fist we start with Brexiteers, choosing $10000$ as the number of repetitions of the sampling"
   ]
  },
  {
   "cell_type": "code",
   "execution_count": null,
   "metadata": {
    "id": "G4-MC0Qtf5_D"
   },
   "outputs": [],
   "source": [
    "n = len(brexit_ages)\n",
    "\n",
    "reps =10000"
   ]
  },
  {
   "cell_type": "markdown",
   "metadata": {
    "id": "dnq6SR7rhRdq"
   },
   "source": [
    "We then use \n",
    "\n",
    "```\n",
    "np.random.choice(a, size=None, replace=True, p=None)\n",
    "```\n",
    "\n",
    "which generates a random sample of a certain size from a given 1-D array `a`. If `replace=True`, then a value of `a` can be selected multiple times.\n"
   ]
  },
  {
   "cell_type": "code",
   "execution_count": null,
   "metadata": {
    "id": "RYJFVQRthQI1"
   },
   "outputs": [],
   "source": [
    "np.random.seed(123)\n",
    "\n",
    "boot_brexit = np.random.choice(brexit_ages, (reps,n))\n",
    "boot_brexit_medians = np.median(boot_brexit, axis=1)"
   ]
  },
  {
   "cell_type": "markdown",
   "metadata": {
    "id": "qHKH_j_Eirgz"
   },
   "source": [
    "The results look like this"
   ]
  },
  {
   "cell_type": "code",
   "execution_count": null,
   "metadata": {
    "colab": {
     "base_uri": "https://localhost:8080/"
    },
    "executionInfo": {
     "elapsed": 13,
     "status": "ok",
     "timestamp": 1631885822040,
     "user": {
      "displayName": "davide ghio",
      "photoUrl": "https://lh3.googleusercontent.com/a/default-user=s64",
      "userId": "16033550004002351519"
     },
     "user_tz": -120
    },
    "id": "UtTIR14aiZEj",
    "outputId": "f574f4df-1dd3-45ab-e9dd-d1017fa1c6b7"
   },
   "outputs": [
    {
     "data": {
      "text/plain": [
       "array([[78, 62, 64, ..., 65, 65, 45],\n",
       "       [71, 36, 62, ..., 88, 79, 30],\n",
       "       [41, 70, 58, ..., 46, 43, 44],\n",
       "       [25, 43, 43, ..., 28, 72, 58],\n",
       "       [78, 62, 66, ..., 76, 45, 59]])"
      ]
     },
     "execution_count": 69,
     "metadata": {},
     "output_type": "execute_result"
    }
   ],
   "source": [
    "boot_brexit[:5]"
   ]
  },
  {
   "cell_type": "code",
   "execution_count": null,
   "metadata": {
    "colab": {
     "base_uri": "https://localhost:8080/"
    },
    "executionInfo": {
     "elapsed": 5,
     "status": "ok",
     "timestamp": 1631885822285,
     "user": {
      "displayName": "davide ghio",
      "photoUrl": "https://lh3.googleusercontent.com/a/default-user=s64",
      "userId": "16033550004002351519"
     },
     "user_tz": -120
    },
    "id": "sjMup-3wiy7a",
    "outputId": "88e60dd5-b9cb-4ce5-c562-15231cc57cae"
   },
   "outputs": [
    {
     "data": {
      "text/plain": [
       "array([55., 53., 53., 54., 54.])"
      ]
     },
     "execution_count": 70,
     "metadata": {},
     "output_type": "execute_result"
    }
   ],
   "source": [
    "boot_brexit_medians[:5]"
   ]
  },
  {
   "cell_type": "markdown",
   "metadata": {
    "id": "sO6R_zyMjShf"
   },
   "source": [
    "Now we can compute the standard deviation and the confidence interval"
   ]
  },
  {
   "cell_type": "code",
   "execution_count": null,
   "metadata": {
    "colab": {
     "base_uri": "https://localhost:8080/"
    },
    "executionInfo": {
     "elapsed": 10,
     "status": "ok",
     "timestamp": 1631885822613,
     "user": {
      "displayName": "davide ghio",
      "photoUrl": "https://lh3.googleusercontent.com/a/default-user=s64",
      "userId": "16033550004002351519"
     },
     "user_tz": -120
    },
    "id": "n-5MuUtJjKnh",
    "outputId": "81ff98dd-ee0b-436a-fb80-bb634ec0e071"
   },
   "outputs": [
    {
     "name": "stdout",
     "output_type": "stream",
     "text": [
      "The mean of the median age of brexiteers computed with bootstrap is 53.3687 \n"
     ]
    }
   ],
   "source": [
    "print(f\"The mean of the median age of brexiteers computed with bootstrap is {boot_brexit_medians.mean()} \")"
   ]
  },
  {
   "cell_type": "code",
   "execution_count": null,
   "metadata": {
    "colab": {
     "base_uri": "https://localhost:8080/"
    },
    "executionInfo": {
     "elapsed": 7,
     "status": "ok",
     "timestamp": 1631885822614,
     "user": {
      "displayName": "davide ghio",
      "photoUrl": "https://lh3.googleusercontent.com/a/default-user=s64",
      "userId": "16033550004002351519"
     },
     "user_tz": -120
    },
    "id": "glDhLqi9jUlJ",
    "outputId": "580f309e-dc7e-47d1-8ebb-ef5149edd8a8"
   },
   "outputs": [
    {
     "name": "stdout",
     "output_type": "stream",
     "text": [
      "The standard deviation of the median age of brexiteers computed with bootstrap is 1.0169858946907768 \n"
     ]
    }
   ],
   "source": [
    "print(f\"The standard deviation of the median age of brexiteers computed with bootstrap is {boot_brexit_medians.std()} \")"
   ]
  },
  {
   "cell_type": "markdown",
   "metadata": {
    "id": "dInY2hkEj5y5"
   },
   "source": [
    "For the C.I. we use `np.percentile` to compute which range of values you can be 95% confident contains the true mean of the median"
   ]
  },
  {
   "cell_type": "code",
   "execution_count": null,
   "metadata": {
    "colab": {
     "base_uri": "https://localhost:8080/"
    },
    "executionInfo": {
     "elapsed": 294,
     "status": "ok",
     "timestamp": 1631885823200,
     "user": {
      "displayName": "davide ghio",
      "photoUrl": "https://lh3.googleusercontent.com/a/default-user=s64",
      "userId": "16033550004002351519"
     },
     "user_tz": -120
    },
    "id": "lshxU8UTj0pH",
    "outputId": "67321cda-51db-48e8-bb4f-7f17cdb5bf39"
   },
   "outputs": [
    {
     "name": "stdout",
     "output_type": "stream",
     "text": [
      "The C.I. for the median age of brexiteers computed with bootstrap is [51.0,55.0] \n"
     ]
    }
   ],
   "source": [
    "boot_brexit_median_CI = np.percentile(boot_brexit_medians, [2.5,97.5])\n",
    "print(f\"The C.I. for the median age of brexiteers computed with bootstrap is [{boot_brexit_median_CI[0]},{boot_brexit_median_CI[1]}] \")"
   ]
  },
  {
   "cell_type": "markdown",
   "metadata": {
    "id": "TPEOi5NklbOm"
   },
   "source": [
    "Now try to do the same for remainers"
   ]
  },
  {
   "cell_type": "code",
   "execution_count": null,
   "metadata": {
    "id": "KoAh6KP8lJA9"
   },
   "outputs": [],
   "source": []
  },
  {
   "cell_type": "code",
   "execution_count": null,
   "metadata": {
    "id": "rrZCOu87AQaZ"
   },
   "outputs": [],
   "source": []
  },
  {
   "cell_type": "markdown",
   "metadata": {
    "id": "NWuG8pUeAPtT"
   },
   "source": [
    "Now we plot the median age distributions with the respective confidence intervals"
   ]
  },
  {
   "cell_type": "code",
   "execution_count": null,
   "metadata": {
    "colab": {
     "base_uri": "https://localhost:8080/",
     "height": 352
    },
    "executionInfo": {
     "elapsed": 661,
     "status": "ok",
     "timestamp": 1631885824687,
     "user": {
      "displayName": "davide ghio",
      "photoUrl": "https://lh3.googleusercontent.com/a/default-user=s64",
      "userId": "16033550004002351519"
     },
     "user_tz": -120
    },
    "id": "Vq4Aav1mmmAy",
    "outputId": "225147ac-2c86-4abf-bdba-5cafcf51e5c2"
   },
   "outputs": [
    {
     "data": {
      "image/png": "[encoded data removed]",
      "text/plain": [
       "<Figure size 648x360 with 1 Axes>"
      ]
     },
     "metadata": {
      "needs_background": "light"
     },
     "output_type": "display_data"
    }
   ],
   "source": [
    "fig = plt.figure(figsize=(9,5))\n",
    "ax = fig.add_subplot(111)\n",
    "plt.title(\"Median age distribution\", size = 16)\n",
    "ax.hist(boot_brexit_medians, color ='darkred', label = f\"Brexiteers\")\n",
    "plt.axvline(boot_brexit_median_CI[0],color = 'red',linewidth=2)\n",
    "plt.axvline(boot_brexit_median_CI[1],color = 'red',linewidth=2)\n",
    "ax.hist(boot_remain_medians, color ='darkblue', label = f\"Remainers\")\n",
    "plt.axvline(boot_remain_median_CI[0],color = 'blue',linewidth=2)\n",
    "plt.axvline(boot_remain_median_CI[1],color = 'blue',linewidth=2)\n",
    "ax.set(xlabel =\"Age\" , ylabel = \"#(occurrences)\")\n",
    "ax.legend();"
   ]
  },
  {
   "cell_type": "markdown",
   "metadata": {
    "id": "CEvMDVrvmSqq"
   },
   "source": [
    "We see that the two intervals are not overlapping"
   ]
  },
  {
   "cell_type": "markdown",
   "metadata": {
    "id": "-s5-6DbwvYQz"
   },
   "source": [
    "# $\\color{purple}{\\text{Your turn - Titanic}}$ "
   ]
  },
  {
   "cell_type": "markdown",
   "metadata": {
    "id": "QVUYnv80nNXv"
   },
   "source": [
    "\n",
    "The sinking of the Titanic is one of the most infamous shipwrecks in history.\n",
    "\n",
    "On April 15, 1912, during her maiden voyage, the widely considered “unsinkable” RMS Titanic sank after colliding with an iceberg. Unfortunately, there weren’t enough lifeboats for everyone onboard, resulting in the death of the majority of passengers and crew.\n",
    "\n",
    "While there was some element of luck involved in surviving, it seems some groups of people were more likely to survive than others."
   ]
  },
  {
   "cell_type": "markdown",
   "metadata": {
    "id": "OWF0LOe_wl4a"
   },
   "source": [
    "**The data set:**"
   ]
  },
  {
   "cell_type": "markdown",
   "metadata": {
    "id": "4P4jtgfcwiXz"
   },
   "source": [
    "First of all, we need to import the data from the csv file you can find [in this github](https://raw.githubusercontent.com/datasciencedojo/datasets/master/titanic.csv)"
   ]
  },
  {
   "cell_type": "markdown",
   "metadata": {
    "id": "tK6F6Bgx8qsf"
   },
   "source": [
    "### $\\color{darkblue}{\\text{Exercises:}}$"
   ]
  },
  {
   "cell_type": "markdown",
   "metadata": {
    "id": "FqaTj9p-b3l_"
   },
   "source": [
    "#### **Age and Ticket fares**"
   ]
  },
  {
   "cell_type": "markdown",
   "metadata": {
    "id": "o208x4_uwM74"
   },
   "source": [
    "##### 0)\n",
    "\n",
    "*   Import the dataset using `pd.read_csv` and visualize the data\n",
    "*   How many features are there?"
   ]
  },
  {
   "cell_type": "code",
   "execution_count": null,
   "metadata": {
    "id": "9AtLW7pqwPmZ"
   },
   "outputs": [],
   "source": []
  },
  {
   "cell_type": "markdown",
   "metadata": {
    "id": "C3nsTblVS8jc"
   },
   "source": [
    "##### 1)\n",
    "*   Select the features corresponding to the Age and to the Survival\n",
    "*   Eliminate artifacts (you can use `dropna(how='any')` to eliminate passengers with unknown data)\n",
    "*   Compute the percentage of survivors $P(Survived=1)$"
   ]
  },
  {
   "cell_type": "code",
   "execution_count": null,
   "metadata": {
    "id": "6Va8RaSEXZBD"
   },
   "outputs": [],
   "source": []
  },
  {
   "cell_type": "markdown",
   "metadata": {
    "id": "bC61uafPzBYb"
   },
   "source": [
    "##### 2)\n",
    "\n",
    "*   Plot, using `hist`, the distribution of ages, separating the Survivers from the Dead \n",
    "*   Compute the difference between the average age of the two groups\n",
    "\n"
   ]
  },
  {
   "cell_type": "code",
   "execution_count": null,
   "metadata": {
    "id": "zaOdzqFNXZBK"
   },
   "outputs": [],
   "source": []
  },
  {
   "cell_type": "markdown",
   "metadata": {
    "id": "GC5uKfXqQDjs"
   },
   "source": [
    "##### 3)\n",
    "*   Select the features corresponding to the Fare and to the Survival\n",
    "*   Eliminate artifacts\n",
    "*   Compute the difference between the average fare of the two groups"
   ]
  },
  {
   "cell_type": "code",
   "execution_count": null,
   "metadata": {
    "id": "RS8RpMGbP_Zt"
   },
   "outputs": [],
   "source": []
  },
  {
   "cell_type": "markdown",
   "metadata": {
    "id": "8e5e01nhXZBQ"
   },
   "source": [
    "##### 4) Use Resampling to test the **Null hypothesis**"
   ]
  },
  {
   "cell_type": "code",
   "execution_count": null,
   "metadata": {
    "id": "upAAfuCqXZBQ"
   },
   "outputs": [],
   "source": []
  },
  {
   "cell_type": "markdown",
   "metadata": {
    "id": "Ih4zNu3rXZBU"
   },
   "source": [
    "We could safely $\\textbf{reject}$ the null hypothesis "
   ]
  },
  {
   "cell_type": "markdown",
   "metadata": {
    "id": "pvogP9w1faHA"
   },
   "source": [
    "##### 5) Concentrate on the Fare feature and compute the median correspondent to the two groups"
   ]
  },
  {
   "cell_type": "code",
   "execution_count": null,
   "metadata": {
    "id": "1nZdUyp_faHB"
   },
   "outputs": [],
   "source": []
  },
  {
   "cell_type": "markdown",
   "metadata": {
    "id": "ccfakMOlfaHK"
   },
   "source": [
    "##### 6) Now we use **bootstrap** for each of the two groups: \n",
    "\n",
    "* Sample the Fares 10000 times with replacement (with the same sample size) using `np.random.choice`\n",
    "* Compute the Confidence Interval (95%) for the median using `np.percentile`"
   ]
  },
  {
   "cell_type": "code",
   "execution_count": null,
   "metadata": {
    "id": "fkEPgn_2faHV"
   },
   "outputs": [],
   "source": []
  },
  {
   "cell_type": "markdown",
   "metadata": {
    "id": "YBlXh4CG6INX"
   },
   "source": [
    "##### 7)\n",
    "\n",
    "* Plot the median rate distribution, including the relative confidence intervals\n",
    "* What can we say?"
   ]
  },
  {
   "cell_type": "code",
   "execution_count": null,
   "metadata": {
    "id": "qbvv5undfaHb"
   },
   "outputs": [],
   "source": []
  },
  {
   "cell_type": "markdown",
   "metadata": {
    "id": "i_mLhDls6n64"
   },
   "source": [
    "##### 8) Use bootstrap to compute the variance of the medians of the two groups"
   ]
  },
  {
   "cell_type": "code",
   "execution_count": null,
   "metadata": {
    "id": "9MglV32z6qPu"
   },
   "outputs": [],
   "source": []
  },
  {
   "cell_type": "markdown",
   "metadata": {
    "id": "D0Cq4krkcRKp"
   },
   "source": [
    "#### **Other features**"
   ]
  },
  {
   "cell_type": "markdown",
   "metadata": {
    "id": "mLgob8Qnc7IX"
   },
   "source": [
    "Now we analyse the impact of other features on the survival of the passengers:\n",
    "\n",
    "* **Sex**\n",
    "* **Pclass**$\\;\\in\\{1,2,3\\}$ is the passenger-class"
   ]
  },
  {
   "cell_type": "markdown",
   "metadata": {
    "id": "zw3kZCjicdx-"
   },
   "source": [
    "##### Compute the following conditional probabilities:\n",
    "\n",
    "* $P(Survived=1\\;|\\; Sex = female)$\n",
    "* $P(Survived=1\\;|\\; Sex = male)$"
   ]
  },
  {
   "cell_type": "code",
   "execution_count": null,
   "metadata": {
    "id": "RJmt-V2dbTjq"
   },
   "outputs": [],
   "source": []
  },
  {
   "cell_type": "markdown",
   "metadata": {
    "id": "tINBXYm3sfHt"
   },
   "source": [
    "##### Compute the following conditional probabilities:\n",
    "\n",
    "* $P(Survived=1\\;|\\; Sex = male\\;,\\; Pclass = 1)$\n",
    "* $P(Survived=1\\;|\\; Sex = male\\;,\\; Pclass = 2)$\n",
    "* $P(Survived=1\\;|\\; Sex = male\\;,\\; Pclass = 3)$\n",
    "\n",
    "After finding the values of $Pclass$ corresponding to the highest and the lowest value of survival rate, test the hypothesis that the difference is due to the limited number of data."
   ]
  },
  {
   "cell_type": "code",
   "execution_count": null,
   "metadata": {
    "id": "yH59SQgtsrIu"
   },
   "outputs": [],
   "source": [
    "\n"
   ]
  }
 ],
 "metadata": {
  "colab": {
   "collapsed_sections": [
    "ef6-VdzBkZtj",
    "IDib6OPOkZtq"
   ],
   "name": "FoIL_ex1_public.ipynb",
   "provenance": [
    {
     "file_id": "13LmWwyuwZ-Qd31pGMYfo11Hd81qUQWqe",
     "timestamp": 1631885877061
    }
   ]
  },
  "interpreter": {
   "hash": "582665e005205e644d403bc592ba93d87a6a83a74c3df9237a83d39250e0e3aa"
  },
  "kernelspec": {
   "display_name": "Python 3.8.13 ('Epi38')",
   "language": "python",
   "name": "python3"
  },
  "language_info": {
   "codemirror_mode": {
    "name": "ipython",
    "version": 3
   },
   "file_extension": ".py",
   "mimetype": "text/x-python",
   "name": "python",
   "nbconvert_exporter": "python",
   "pygments_lexer": "ipython3",
   "version": "3.8.8"
  }
 },
 "nbformat": 4,
 "nbformat_minor": 0
}
