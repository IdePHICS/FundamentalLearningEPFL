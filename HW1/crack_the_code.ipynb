{
 "cells": [
  {
   "cell_type": "markdown",
   "metadata": {},
   "source": [
    "# Homework 1: crack Alex's phone code\n",
    "\n",
    "### Rules:\n",
    " - You should write the solution in this notebook and upload the completed notebook on Moodle by the deadline.\n",
    " - You are not allowed to work in groups, every student should submit their own notebook. If you submit two highly overlapping notebooks with another student, you will both be penalized.\n",
    " - The bonus questions are optional. They are not needed to get the full grade, but they can help you to get a higher grade.\n",
    "\n",
    "### The setting\n",
    "\n",
    "Your friend Alex wants to hide a secret code in a probability distribution. The probability density function is a piecewise linear distribution with parameters $0<a\\le b$, defined as\n",
    "$$p(x;a,b) = H(a,b) \\begin{cases} \\frac{x}{a} & \\text{if } 0 \\leq x \\leq a, \\\\ \\frac{b-x}{b-a} & \\text{if } a \\leq x \\leq b, \\\\ 0 & \\text{otherwise.} \\end{cases}$$\n",
    "where $H(a,b)$ is a normalization constant. Alex has choosen $a$ and $b$ such that they are the first two and the last two digits of his phone secret code, respectively.\n",
    "For example, if their secret code is 1234, then $a=12$ and $b=34$. Alex stores some sample values of the distribution in a file called on their computer, thinking that nobody will be able to understand the distribution without the secret code.\n",
    "\n",
    "You recently enrolled at EPFL and you are taking the course of _Fundamental of Inference and Learning_, and you want to prove that Alex's phone code is not safe. In this problem, your goal is to discover the secret code by studying the distribution."
   ]
  },
  {
   "cell_type": "markdown",
   "metadata": {},
   "source": [
    "## Part 1: Properties of the distribution"
   ]
  },
  {
   "cell_type": "markdown",
   "metadata": {},
   "source": [
    "The distribution $p(x;a,b)$ is a valid distribution, i.e., it is normalized and it is non-negative. In this part, you will find many properties of the distribution."
   ]
  },
  {
   "cell_type": "markdown",
   "metadata": {},
   "source": [
    " - **Question 1.** Find the normalization constant $H(a,b)$."
   ]
  },
  {
   "cell_type": "markdown",
   "metadata": {},
   "source": [
    "- **Question 2.** Compute the expected value $\\mu$ of the distribution."
   ]
  },
  {
   "cell_type": "markdown",
   "metadata": {},
   "source": [
    "- **Question 3.** Compute the _cumulative density function_ $F(t)$ of the distribution."
   ]
  },
  {
   "cell_type": "markdown",
   "metadata": {},
   "source": [
    "* **Question 4.** Compute the median $m$ of the distribution. (Be careful, there are some special cases to consider according to the value $a$ and $b$)"
   ]
  },
  {
   "cell_type": "markdown",
   "metadata": {},
   "source": [
    "- **Question 5.** Are the expected value and the median equal? How do the compare with the mode of the distribution? Comment the results."
   ]
  },
  {
   "cell_type": "markdown",
   "metadata": {},
   "source": [
    "## Part 2: Discovering the secret code from samples\n",
    "You have seen Alex typing the code once, and you know that the last 2 digits are \"20\", hence $b=20$, and your goal is to estimate the first two digits $a^\\star$. In this part, you can work as if you knew the value of $b$, and the distribution depends only on $a$. You also got the file `fixed_b.npy`with samples coming from the distribution $p(x;a=a^\\star, b=20)$ that your friend Alex stored in the computer."
   ]
  },
  {
   "cell_type": "markdown",
   "metadata": {},
   "source": [
    "- **Question 6.** Implement a function `pdf(x, a, b=20)` that computes the probability density function $p(x;a,20)$, and plot it for $b=20$ and $a$ of your choice."
   ]
  },
  {
   "cell_type": "markdown",
   "metadata": {},
   "source": [
    "- **Question 7** How many sample points are there in the file? Let us call this number $n$ and plot an histogram of the data"
   ]
  },
  {
   "cell_type": "markdown",
   "metadata": {},
   "source": [
    "- **Question 8.** Compute the empirical mean $\\bar x$ and the empirical median $\\bar m$. "
   ]
  },
  {
   "cell_type": "markdown",
   "metadata": {},
   "source": [
    "- **Question 9.** Use the expression of the expected value you computedabove to find an estimator $\\hat a_\\text{mean}$ of the true parameter $a^\\star$, as a function of the empirical mean $\\bar x$. Repeat the same for the median, and find $\\hat a_\\text{median}$ as a function of the empirical median $\\bar m$."
   ]
  },
  {
   "cell_type": "markdown",
   "metadata": {},
   "source": [
    "- **Question 10.** Implement a function `est_a_mean(x_bar, b=20)` and `est_a_median(m_bar, b=20)` that code the estimators you found above. What are the vaules of $\\hat a_\\text{mean}$ and $\\hat a_\\text{median}$ for the data you have in the file `fixed_b.npy`?"
   ]
  },
  {
   "cell_type": "markdown",
   "metadata": {},
   "source": [
    " - **Question 11.** Consider the log-likelihood function $\\mathcal{L}(a;\\{x_i\\}_{i\\in[1,n]},b=20)$. Plot the log-likelihood function as a function of $a$ for the data in the file `fixed_b.npy`."
   ]
  },
  {
   "cell_type": "markdown",
   "metadata": {},
   "source": [
    " - **Question 12.** What is the maximum likelihood estimator $\\hat a_\\text{MLE}$?"
   ]
  },
  {
   "cell_type": "markdown",
   "metadata": {},
   "source": [
    "- **Question 13.** Use bootstrapping to compute the 95% confidence interval for all the three $a$ estimators computed above."
   ]
  },
  {
   "cell_type": "markdown",
   "metadata": {},
   "source": [
    " - **Question 14.** Compute the Fisher information of $a$ under the distribution $p(x;a,b=20)$.\n",
    " "
   ]
  },
  {
   "cell_type": "markdown",
   "metadata": {},
   "source": [
    "- **Question 15.** Can you compute the maximum likelihood estimator using the Jeffrey Posterior $\\hat a_\\text{jeff}$? Provide also the confidence intervals."
   ]
  },
  {
   "cell_type": "markdown",
   "metadata": {},
   "source": [
    "All the estimation you derived couldn't find the secret code with absolute certainty. The confidence intervals you computed are too large to produce one single code. Moreover your friend is a bit paranoid and changes the code every week, so the information you have is not valid anymore. You need to find a better way to estimate the code."
   ]
  },
  {
   "cell_type": "markdown",
   "metadata": {},
   "source": [
    "### Test the estimators\n",
    "You are still trying to sneak into your friend's computer to get new samples of the distribution. In the meanwhile, you want to test the estimators you derived on a synthetic dataset. Florent gave you this Python function to sample the distribution $p(x;a,b)$:\n"
   ]
  },
  {
   "cell_type": "code",
   "execution_count": null,
   "metadata": {},
   "outputs": [],
   "source": [
    "import numpy as np\n",
    "import matplotlib.pyplot as plt\n",
    "\n",
    "def sample(a: float, b: float, size: int=1) -> np.array:\n",
    "    def sample_single(a: float, b: float) -> float:\n",
    "        u = 0\n",
    "        v = b\n",
    "        while not((u <= a and v <= 2/(a*b)*u) or (u > a and v <= 2/b *(b-u)/(b-a))):\n",
    "            u = np.random.uniform(0, b)\n",
    "            v = np.random.uniform(0, 2/b)\n",
    "        return u\n",
    "    return np.array([sample_single(a, b) for _ in range(size)])"
   ]
  },
  {
   "cell_type": "markdown",
   "metadata": {},
   "source": [
    "- **Bonus question 1** The sampling function is not efficient. Can you provide a more efficient way to sample the distribution?"
   ]
  },
  {
   "cell_type": "markdown",
   "metadata": {},
   "source": [
    "Stick with the case where $b=20$, and sample $N=1000$ points from the distribution $p(x;a,b)$ for 10 values of $a\\in[0,20]$.\n",
    "- **Question 16.** Compute and plot the mean squared error of the 4 estimators for $\\hat a_\\text{mean}, \\hat a_\\text{median}, \\hat a_\\text{ML}$ and $\\hat a_\\text{Jeff}$, as well as the Cramér-Rao lower bound. Which one is the best? [Hint: to have a good estimate of the mean squared error, you can repeat the sampling 300 times and compute the average of the squared error, for each value of $a$; be patient, this will take some time to compute]"
   ]
  },
  {
   "cell_type": "markdown",
   "metadata": {},
   "source": [
    "- **Bonus Question 2.** Why is the Jeffrey's prior estimator so bad? Can you provide a better bound for the variance of the estimator? [Hint: you might need `np.gradient` to solve this question, and increase the number of different values of $a$ to get a finer plot]"
   ]
  },
  {
   "cell_type": "markdown",
   "metadata": {},
   "source": [
    "### Joint estimation case\n",
    "You finally managed to get the file `full.npy` with the samples of the distribution $p(x;a,b)$ your friend Alex stored in the computer. You don't know the value of $b$, and you need to estimate both $a^\\star$ and $b^\\star$. (BE CAREFUL: $a^\\star$ is different from the previous case).\n",
    "\n"
   ]
  },
  {
   "cell_type": "markdown",
   "metadata": {},
   "source": [
    "- **Question 17.** How many sample points are there in the file? Let us call this number $n$ and plot an histogram of the data."
   ]
  },
  {
   "cell_type": "markdown",
   "metadata": {},
   "source": [
    "- **Question 18.** Compute the maximum likelihood estimators $\\hat a_\\text{ML}$ and $\\hat b_\\text{ML}$ for the data in the file `full.npy`.\n"
   ]
  },
  {
   "cell_type": "markdown",
   "metadata": {},
   "source": [
    "- **Question 19.** Can you provide the confidence intervals for the estimators? Can you guess the secret code of your friend?"
   ]
  },
  {
   "cell_type": "markdown",
   "metadata": {},
   "source": [
    "- **Bonus Question 3.** Can you find some estimators for $a$ and $b$ that are based on mean and median? Do you expect them to work well? Why?"
   ]
  }
 ],
 "metadata": {
  "kernelspec": {
   "display_name": "Python 3",
   "language": "python",
   "name": "python3"
  },
  "language_info": {
   "codemirror_mode": {
    "name": "ipython",
    "version": 3
   },
   "file_extension": ".py",
   "mimetype": "text/x-python",
   "name": "python",
   "nbconvert_exporter": "python",
   "pygments_lexer": "ipython3",
   "version": "3.12.4"
  }
 },
 "nbformat": 4,
 "nbformat_minor": 2
}
